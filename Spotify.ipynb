{
  "nbformat": 4,
  "nbformat_minor": 0,
  "metadata": {
    "colab": {
      "provenance": [],
      "toc_visible": true
    },
    "kernelspec": {
      "name": "python3",
      "display_name": "Python 3"
    },
    "language_info": {
      "name": "python"
    }
  },
  "cells": [
    {
      "cell_type": "markdown",
      "source": [
        "# Importing the libraries:"
      ],
      "metadata": {
        "id": "OVPYJ80JM6Qu"
      }
    },
    {
      "cell_type": "code",
      "execution_count": 24,
      "metadata": {
        "id": "lHNqqug4HX8d"
      },
      "outputs": [],
      "source": [
        "import pandas as pd\n",
        "import numpy as np\n",
        "import matplotlib.pyplot as plt\n",
        "import seaborn as sns\n",
        "from sklearn.preprocessing import LabelEncoder\n",
        "from sklearn.model_selection import train_test_split\n",
        "from sklearn.preprocessing import StandardScaler\n",
        "from sklearn.model_selection import train_test_split\n",
        "from sklearn.linear_model import LinearRegression\n",
        "from sklearn.metrics import mean_squared_error, r2_score\n",
        "from sklearn.feature_selection import RFE\n",
        "from sklearn.linear_model import Ridge, Lasso\n",
        "from sklearn.model_selection import GridSearchCV\n",
        "from sklearn.tree import DecisionTreeRegressor\n",
        "from sklearn.ensemble import RandomForestRegressor\n",
        "from sklearn.ensemble import GradientBoostingRegressor\n",
        "from sklearn.svm import SVR\n",
        "from sklearn.model_selection import RandomizedSearchCV\n"
      ]
    },
    {
      "cell_type": "code",
      "source": [
        "import xgboost as xgb\n",
        "import lightgbm as lgb\n"
      ],
      "metadata": {
        "id": "Z_CPf_5LhlCF"
      },
      "execution_count": 29,
      "outputs": []
    },
    {
      "cell_type": "markdown",
      "source": [
        "# Clearly defined problem statement and data description\n",
        "\n"
      ],
      "metadata": {
        "id": "Hys3wew8SODW"
      }
    },
    {
      "cell_type": "markdown",
      "source": [
        "## Problem Statement:\n",
        "We aim to develop a predictive model that can predict the success of a song on the Spotify platform. The success metric can be its number of streams, its position on the charts, or other related indicators. The prediction will be based on various attributes of the song, such as its audio features, release date, and attributes related to the artist(s).\n",
        "\n",
        "## Data Description:\n",
        "The dataset contains information about the most famous songs of 2023 as listed on Spotify. Here are the features available in the dataset:\n",
        "\n",
        "- **track_name**: Name of the song.\n",
        "- **artist(s)_name**: Name of the artist(s) of the song.\n",
        "- **artist_count**: Number of artists contributing to the song.\n",
        "- **released_year**: Year the song was released.\n",
        "- **released_month**: Month the song was released.\n",
        "- **released_day**: Day of the month the song was released.\n",
        "- **in_spotify_playlists**: Number of Spotify playlists the song is included in.\n",
        "- **in_spotify_charts**: Presence and rank of the song on Spotify charts.\n",
        "- **streams**: Total number of streams on Spotify.\n",
        "- **in_apple_playlists**: Number of Apple Music playlists the song is included in.\n",
        "- **in_apple_charts**: Presence and rank of the song on Apple Music charts.\n",
        "- **in_deezer_playlists**: Number of Deezer playlists the song is included in.\n",
        "- **in_deezer_charts**: Presence and rank of the song on Deezer charts.\n",
        "- **in_shazam_charts**: Presence and rank of the song on Shazam charts.\n",
        "- **bpm**: Beats per minute (tempo of the song).\n",
        "- **key**: Key of the song.\n",
        "- **mode**: Mode of the song (major or minor).\n",
        "- **danceability_%**: How suitable the song is for dancing (in percentage).\n",
        "- **valence_%**: Positivity of the song's musical content (in percentage).\n",
        "- **energy_%**: Perceived energy level of the song (in percentage).\n",
        "- **acousticness_%**: Amount of acoustic sound in the song (in percentage).\n",
        "- **instrumentalness_%**: Amount of instrumental content in the song (in percentage).\n",
        "- **liveness_%**: Presence of live performance elements in the song (in percentage).\n",
        "- **speechiness_%**: Amount of spoken words in the song (in percentage).\n"
      ],
      "metadata": {
        "id": "5lNVRpxQSHd4"
      }
    },
    {
      "cell_type": "markdown",
      "source": [
        "# Exploratory Data Analysis (EDA)\n",
        "\n",
        "During EDA, we'll perform the following tasks:\n",
        "\n",
        "- Get a quick overview of the dataset.\n",
        "- Analyze the distributions of key features.\n",
        "- Check for missing values and handle them if any exist.\n",
        "- Visualize relationships and correlations between features.\n"
      ],
      "metadata": {
        "id": "BYGkLxA_SQMd"
      }
    },
    {
      "cell_type": "code",
      "source": [
        "# Reading the CSV with 'ISO-8859-1' encoding\n",
        "data = pd.read_csv(\"/content/spotify-2023.csv\", encoding='ISO-8859-1')\n",
        "# Display the first few rows of the dataset\n",
        "data.head()"
      ],
      "metadata": {
        "colab": {
          "base_uri": "https://localhost:8080/",
          "height": 325
        },
        "id": "IZ6bJ4sZM58g",
        "outputId": "cd6b400d-c168-4378-9750-3943125fda91"
      },
      "execution_count": 2,
      "outputs": [
        {
          "output_type": "execute_result",
          "data": {
            "text/plain": [
              "                            track_name    artist(s)_name  artist_count  \\\n",
              "0  Seven (feat. Latto) (Explicit Ver.)  Latto, Jung Kook             2   \n",
              "1                                 LALA       Myke Towers             1   \n",
              "2                              vampire    Olivia Rodrigo             1   \n",
              "3                         Cruel Summer      Taylor Swift             1   \n",
              "4                       WHERE SHE GOES         Bad Bunny             1   \n",
              "\n",
              "   released_year  released_month  released_day  in_spotify_playlists  \\\n",
              "0           2023               7            14                   553   \n",
              "1           2023               3            23                  1474   \n",
              "2           2023               6            30                  1397   \n",
              "3           2019               8            23                  7858   \n",
              "4           2023               5            18                  3133   \n",
              "\n",
              "   in_spotify_charts    streams  in_apple_playlists  ...  bpm key   mode  \\\n",
              "0                147  141381703                  43  ...  125   B  Major   \n",
              "1                 48  133716286                  48  ...   92  C#  Major   \n",
              "2                113  140003974                  94  ...  138   F  Major   \n",
              "3                100  800840817                 116  ...  170   A  Major   \n",
              "4                 50  303236322                  84  ...  144   A  Minor   \n",
              "\n",
              "  danceability_%  valence_% energy_% acousticness_%  instrumentalness_%  \\\n",
              "0             80         89       83             31                   0   \n",
              "1             71         61       74              7                   0   \n",
              "2             51         32       53             17                   0   \n",
              "3             55         58       72             11                   0   \n",
              "4             65         23       80             14                  63   \n",
              "\n",
              "   liveness_%  speechiness_%  \n",
              "0           8              4  \n",
              "1          10              4  \n",
              "2          31              6  \n",
              "3          11             15  \n",
              "4          11              6  \n",
              "\n",
              "[5 rows x 24 columns]"
            ],
            "text/html": [
              "\n",
              "  <div id=\"df-72e6a909-03da-46ba-8833-aea380fc9728\" class=\"colab-df-container\">\n",
              "    <div>\n",
              "<style scoped>\n",
              "    .dataframe tbody tr th:only-of-type {\n",
              "        vertical-align: middle;\n",
              "    }\n",
              "\n",
              "    .dataframe tbody tr th {\n",
              "        vertical-align: top;\n",
              "    }\n",
              "\n",
              "    .dataframe thead th {\n",
              "        text-align: right;\n",
              "    }\n",
              "</style>\n",
              "<table border=\"1\" class=\"dataframe\">\n",
              "  <thead>\n",
              "    <tr style=\"text-align: right;\">\n",
              "      <th></th>\n",
              "      <th>track_name</th>\n",
              "      <th>artist(s)_name</th>\n",
              "      <th>artist_count</th>\n",
              "      <th>released_year</th>\n",
              "      <th>released_month</th>\n",
              "      <th>released_day</th>\n",
              "      <th>in_spotify_playlists</th>\n",
              "      <th>in_spotify_charts</th>\n",
              "      <th>streams</th>\n",
              "      <th>in_apple_playlists</th>\n",
              "      <th>...</th>\n",
              "      <th>bpm</th>\n",
              "      <th>key</th>\n",
              "      <th>mode</th>\n",
              "      <th>danceability_%</th>\n",
              "      <th>valence_%</th>\n",
              "      <th>energy_%</th>\n",
              "      <th>acousticness_%</th>\n",
              "      <th>instrumentalness_%</th>\n",
              "      <th>liveness_%</th>\n",
              "      <th>speechiness_%</th>\n",
              "    </tr>\n",
              "  </thead>\n",
              "  <tbody>\n",
              "    <tr>\n",
              "      <th>0</th>\n",
              "      <td>Seven (feat. Latto) (Explicit Ver.)</td>\n",
              "      <td>Latto, Jung Kook</td>\n",
              "      <td>2</td>\n",
              "      <td>2023</td>\n",
              "      <td>7</td>\n",
              "      <td>14</td>\n",
              "      <td>553</td>\n",
              "      <td>147</td>\n",
              "      <td>141381703</td>\n",
              "      <td>43</td>\n",
              "      <td>...</td>\n",
              "      <td>125</td>\n",
              "      <td>B</td>\n",
              "      <td>Major</td>\n",
              "      <td>80</td>\n",
              "      <td>89</td>\n",
              "      <td>83</td>\n",
              "      <td>31</td>\n",
              "      <td>0</td>\n",
              "      <td>8</td>\n",
              "      <td>4</td>\n",
              "    </tr>\n",
              "    <tr>\n",
              "      <th>1</th>\n",
              "      <td>LALA</td>\n",
              "      <td>Myke Towers</td>\n",
              "      <td>1</td>\n",
              "      <td>2023</td>\n",
              "      <td>3</td>\n",
              "      <td>23</td>\n",
              "      <td>1474</td>\n",
              "      <td>48</td>\n",
              "      <td>133716286</td>\n",
              "      <td>48</td>\n",
              "      <td>...</td>\n",
              "      <td>92</td>\n",
              "      <td>C#</td>\n",
              "      <td>Major</td>\n",
              "      <td>71</td>\n",
              "      <td>61</td>\n",
              "      <td>74</td>\n",
              "      <td>7</td>\n",
              "      <td>0</td>\n",
              "      <td>10</td>\n",
              "      <td>4</td>\n",
              "    </tr>\n",
              "    <tr>\n",
              "      <th>2</th>\n",
              "      <td>vampire</td>\n",
              "      <td>Olivia Rodrigo</td>\n",
              "      <td>1</td>\n",
              "      <td>2023</td>\n",
              "      <td>6</td>\n",
              "      <td>30</td>\n",
              "      <td>1397</td>\n",
              "      <td>113</td>\n",
              "      <td>140003974</td>\n",
              "      <td>94</td>\n",
              "      <td>...</td>\n",
              "      <td>138</td>\n",
              "      <td>F</td>\n",
              "      <td>Major</td>\n",
              "      <td>51</td>\n",
              "      <td>32</td>\n",
              "      <td>53</td>\n",
              "      <td>17</td>\n",
              "      <td>0</td>\n",
              "      <td>31</td>\n",
              "      <td>6</td>\n",
              "    </tr>\n",
              "    <tr>\n",
              "      <th>3</th>\n",
              "      <td>Cruel Summer</td>\n",
              "      <td>Taylor Swift</td>\n",
              "      <td>1</td>\n",
              "      <td>2019</td>\n",
              "      <td>8</td>\n",
              "      <td>23</td>\n",
              "      <td>7858</td>\n",
              "      <td>100</td>\n",
              "      <td>800840817</td>\n",
              "      <td>116</td>\n",
              "      <td>...</td>\n",
              "      <td>170</td>\n",
              "      <td>A</td>\n",
              "      <td>Major</td>\n",
              "      <td>55</td>\n",
              "      <td>58</td>\n",
              "      <td>72</td>\n",
              "      <td>11</td>\n",
              "      <td>0</td>\n",
              "      <td>11</td>\n",
              "      <td>15</td>\n",
              "    </tr>\n",
              "    <tr>\n",
              "      <th>4</th>\n",
              "      <td>WHERE SHE GOES</td>\n",
              "      <td>Bad Bunny</td>\n",
              "      <td>1</td>\n",
              "      <td>2023</td>\n",
              "      <td>5</td>\n",
              "      <td>18</td>\n",
              "      <td>3133</td>\n",
              "      <td>50</td>\n",
              "      <td>303236322</td>\n",
              "      <td>84</td>\n",
              "      <td>...</td>\n",
              "      <td>144</td>\n",
              "      <td>A</td>\n",
              "      <td>Minor</td>\n",
              "      <td>65</td>\n",
              "      <td>23</td>\n",
              "      <td>80</td>\n",
              "      <td>14</td>\n",
              "      <td>63</td>\n",
              "      <td>11</td>\n",
              "      <td>6</td>\n",
              "    </tr>\n",
              "  </tbody>\n",
              "</table>\n",
              "<p>5 rows × 24 columns</p>\n",
              "</div>\n",
              "    <div class=\"colab-df-buttons\">\n",
              "\n",
              "  <div class=\"colab-df-container\">\n",
              "    <button class=\"colab-df-convert\" onclick=\"convertToInteractive('df-72e6a909-03da-46ba-8833-aea380fc9728')\"\n",
              "            title=\"Convert this dataframe to an interactive table.\"\n",
              "            style=\"display:none;\">\n",
              "\n",
              "  <svg xmlns=\"http://www.w3.org/2000/svg\" height=\"24px\" viewBox=\"0 -960 960 960\">\n",
              "    <path d=\"M120-120v-720h720v720H120Zm60-500h600v-160H180v160Zm220 220h160v-160H400v160Zm0 220h160v-160H400v160ZM180-400h160v-160H180v160Zm440 0h160v-160H620v160ZM180-180h160v-160H180v160Zm440 0h160v-160H620v160Z\"/>\n",
              "  </svg>\n",
              "    </button>\n",
              "\n",
              "  <style>\n",
              "    .colab-df-container {\n",
              "      display:flex;\n",
              "      gap: 12px;\n",
              "    }\n",
              "\n",
              "    .colab-df-convert {\n",
              "      background-color: #E8F0FE;\n",
              "      border: none;\n",
              "      border-radius: 50%;\n",
              "      cursor: pointer;\n",
              "      display: none;\n",
              "      fill: #1967D2;\n",
              "      height: 32px;\n",
              "      padding: 0 0 0 0;\n",
              "      width: 32px;\n",
              "    }\n",
              "\n",
              "    .colab-df-convert:hover {\n",
              "      background-color: #E2EBFA;\n",
              "      box-shadow: 0px 1px 2px rgba(60, 64, 67, 0.3), 0px 1px 3px 1px rgba(60, 64, 67, 0.15);\n",
              "      fill: #174EA6;\n",
              "    }\n",
              "\n",
              "    .colab-df-buttons div {\n",
              "      margin-bottom: 4px;\n",
              "    }\n",
              "\n",
              "    [theme=dark] .colab-df-convert {\n",
              "      background-color: #3B4455;\n",
              "      fill: #D2E3FC;\n",
              "    }\n",
              "\n",
              "    [theme=dark] .colab-df-convert:hover {\n",
              "      background-color: #434B5C;\n",
              "      box-shadow: 0px 1px 3px 1px rgba(0, 0, 0, 0.15);\n",
              "      filter: drop-shadow(0px 1px 2px rgba(0, 0, 0, 0.3));\n",
              "      fill: #FFFFFF;\n",
              "    }\n",
              "  </style>\n",
              "\n",
              "    <script>\n",
              "      const buttonEl =\n",
              "        document.querySelector('#df-72e6a909-03da-46ba-8833-aea380fc9728 button.colab-df-convert');\n",
              "      buttonEl.style.display =\n",
              "        google.colab.kernel.accessAllowed ? 'block' : 'none';\n",
              "\n",
              "      async function convertToInteractive(key) {\n",
              "        const element = document.querySelector('#df-72e6a909-03da-46ba-8833-aea380fc9728');\n",
              "        const dataTable =\n",
              "          await google.colab.kernel.invokeFunction('convertToInteractive',\n",
              "                                                    [key], {});\n",
              "        if (!dataTable) return;\n",
              "\n",
              "        const docLinkHtml = 'Like what you see? Visit the ' +\n",
              "          '<a target=\"_blank\" href=https://colab.research.google.com/notebooks/data_table.ipynb>data table notebook</a>'\n",
              "          + ' to learn more about interactive tables.';\n",
              "        element.innerHTML = '';\n",
              "        dataTable['output_type'] = 'display_data';\n",
              "        await google.colab.output.renderOutput(dataTable, element);\n",
              "        const docLink = document.createElement('div');\n",
              "        docLink.innerHTML = docLinkHtml;\n",
              "        element.appendChild(docLink);\n",
              "      }\n",
              "    </script>\n",
              "  </div>\n",
              "\n",
              "\n",
              "<div id=\"df-9640fbe4-6373-4653-b58d-5055b06d8bfc\">\n",
              "  <button class=\"colab-df-quickchart\" onclick=\"quickchart('df-9640fbe4-6373-4653-b58d-5055b06d8bfc')\"\n",
              "            title=\"Suggest charts.\"\n",
              "            style=\"display:none;\">\n",
              "\n",
              "<svg xmlns=\"http://www.w3.org/2000/svg\" height=\"24px\"viewBox=\"0 0 24 24\"\n",
              "     width=\"24px\">\n",
              "    <g>\n",
              "        <path d=\"M19 3H5c-1.1 0-2 .9-2 2v14c0 1.1.9 2 2 2h14c1.1 0 2-.9 2-2V5c0-1.1-.9-2-2-2zM9 17H7v-7h2v7zm4 0h-2V7h2v10zm4 0h-2v-4h2v4z\"/>\n",
              "    </g>\n",
              "</svg>\n",
              "  </button>\n",
              "\n",
              "<style>\n",
              "  .colab-df-quickchart {\n",
              "      --bg-color: #E8F0FE;\n",
              "      --fill-color: #1967D2;\n",
              "      --hover-bg-color: #E2EBFA;\n",
              "      --hover-fill-color: #174EA6;\n",
              "      --disabled-fill-color: #AAA;\n",
              "      --disabled-bg-color: #DDD;\n",
              "  }\n",
              "\n",
              "  [theme=dark] .colab-df-quickchart {\n",
              "      --bg-color: #3B4455;\n",
              "      --fill-color: #D2E3FC;\n",
              "      --hover-bg-color: #434B5C;\n",
              "      --hover-fill-color: #FFFFFF;\n",
              "      --disabled-bg-color: #3B4455;\n",
              "      --disabled-fill-color: #666;\n",
              "  }\n",
              "\n",
              "  .colab-df-quickchart {\n",
              "    background-color: var(--bg-color);\n",
              "    border: none;\n",
              "    border-radius: 50%;\n",
              "    cursor: pointer;\n",
              "    display: none;\n",
              "    fill: var(--fill-color);\n",
              "    height: 32px;\n",
              "    padding: 0;\n",
              "    width: 32px;\n",
              "  }\n",
              "\n",
              "  .colab-df-quickchart:hover {\n",
              "    background-color: var(--hover-bg-color);\n",
              "    box-shadow: 0 1px 2px rgba(60, 64, 67, 0.3), 0 1px 3px 1px rgba(60, 64, 67, 0.15);\n",
              "    fill: var(--button-hover-fill-color);\n",
              "  }\n",
              "\n",
              "  .colab-df-quickchart-complete:disabled,\n",
              "  .colab-df-quickchart-complete:disabled:hover {\n",
              "    background-color: var(--disabled-bg-color);\n",
              "    fill: var(--disabled-fill-color);\n",
              "    box-shadow: none;\n",
              "  }\n",
              "\n",
              "  .colab-df-spinner {\n",
              "    border: 2px solid var(--fill-color);\n",
              "    border-color: transparent;\n",
              "    border-bottom-color: var(--fill-color);\n",
              "    animation:\n",
              "      spin 1s steps(1) infinite;\n",
              "  }\n",
              "\n",
              "  @keyframes spin {\n",
              "    0% {\n",
              "      border-color: transparent;\n",
              "      border-bottom-color: var(--fill-color);\n",
              "      border-left-color: var(--fill-color);\n",
              "    }\n",
              "    20% {\n",
              "      border-color: transparent;\n",
              "      border-left-color: var(--fill-color);\n",
              "      border-top-color: var(--fill-color);\n",
              "    }\n",
              "    30% {\n",
              "      border-color: transparent;\n",
              "      border-left-color: var(--fill-color);\n",
              "      border-top-color: var(--fill-color);\n",
              "      border-right-color: var(--fill-color);\n",
              "    }\n",
              "    40% {\n",
              "      border-color: transparent;\n",
              "      border-right-color: var(--fill-color);\n",
              "      border-top-color: var(--fill-color);\n",
              "    }\n",
              "    60% {\n",
              "      border-color: transparent;\n",
              "      border-right-color: var(--fill-color);\n",
              "    }\n",
              "    80% {\n",
              "      border-color: transparent;\n",
              "      border-right-color: var(--fill-color);\n",
              "      border-bottom-color: var(--fill-color);\n",
              "    }\n",
              "    90% {\n",
              "      border-color: transparent;\n",
              "      border-bottom-color: var(--fill-color);\n",
              "    }\n",
              "  }\n",
              "</style>\n",
              "\n",
              "  <script>\n",
              "    async function quickchart(key) {\n",
              "      const quickchartButtonEl =\n",
              "        document.querySelector('#' + key + ' button');\n",
              "      quickchartButtonEl.disabled = true;  // To prevent multiple clicks.\n",
              "      quickchartButtonEl.classList.add('colab-df-spinner');\n",
              "      try {\n",
              "        const charts = await google.colab.kernel.invokeFunction(\n",
              "            'suggestCharts', [key], {});\n",
              "      } catch (error) {\n",
              "        console.error('Error during call to suggestCharts:', error);\n",
              "      }\n",
              "      quickchartButtonEl.classList.remove('colab-df-spinner');\n",
              "      quickchartButtonEl.classList.add('colab-df-quickchart-complete');\n",
              "    }\n",
              "    (() => {\n",
              "      let quickchartButtonEl =\n",
              "        document.querySelector('#df-9640fbe4-6373-4653-b58d-5055b06d8bfc button');\n",
              "      quickchartButtonEl.style.display =\n",
              "        google.colab.kernel.accessAllowed ? 'block' : 'none';\n",
              "    })();\n",
              "  </script>\n",
              "</div>\n",
              "    </div>\n",
              "  </div>\n"
            ]
          },
          "metadata": {},
          "execution_count": 2
        }
      ]
    },
    {
      "cell_type": "code",
      "source": [
        "data.shape\n"
      ],
      "metadata": {
        "colab": {
          "base_uri": "https://localhost:8080/"
        },
        "id": "m4sU3WDHMewz",
        "outputId": "15d188e3-a823-45a0-9603-8a00c16232a1"
      },
      "execution_count": 3,
      "outputs": [
        {
          "output_type": "execute_result",
          "data": {
            "text/plain": [
              "(953, 24)"
            ]
          },
          "metadata": {},
          "execution_count": 3
        }
      ]
    },
    {
      "cell_type": "code",
      "source": [
        "# Display basic statistics for numeric columns\n",
        "data.describe().transpose()\n"
      ],
      "metadata": {
        "colab": {
          "base_uri": "https://localhost:8080/",
          "height": 582
        },
        "id": "SKC6-OPqNFEy",
        "outputId": "8ab2ddd5-d57e-4c29-c1cf-ee1a1ffea3fa"
      },
      "execution_count": 4,
      "outputs": [
        {
          "output_type": "execute_result",
          "data": {
            "text/plain": [
              "                      count         mean          std     min     25%     50%  \\\n",
              "artist_count          953.0     1.556139     0.893044     1.0     1.0     1.0   \n",
              "released_year         953.0  2018.238195    11.116218  1930.0  2020.0  2022.0   \n",
              "released_month        953.0     6.033578     3.566435     1.0     3.0     6.0   \n",
              "released_day          953.0    13.930745     9.201949     1.0     6.0    13.0   \n",
              "in_spotify_playlists  953.0  5200.124869  7897.608990    31.0   875.0  2224.0   \n",
              "in_spotify_charts     953.0    12.009444    19.575992     0.0     0.0     3.0   \n",
              "in_apple_playlists    953.0    67.812172    86.441493     0.0    13.0    34.0   \n",
              "in_apple_charts       953.0    51.908709    50.630241     0.0     7.0    38.0   \n",
              "in_deezer_charts      953.0     2.666317     6.035599     0.0     0.0     0.0   \n",
              "bpm                   953.0   122.540399    28.057802    65.0   100.0   121.0   \n",
              "danceability_%        953.0    66.969570    14.630610    23.0    57.0    69.0   \n",
              "valence_%             953.0    51.431270    23.480632     4.0    32.0    51.0   \n",
              "energy_%              953.0    64.279119    16.550526     9.0    53.0    66.0   \n",
              "acousticness_%        953.0    27.057712    25.996077     0.0     6.0    18.0   \n",
              "instrumentalness_%    953.0     1.581322     8.409800     0.0     0.0     0.0   \n",
              "liveness_%            953.0    18.213012    13.711223     3.0    10.0    12.0   \n",
              "speechiness_%         953.0    10.131165     9.912888     2.0     4.0     6.0   \n",
              "\n",
              "                         75%      max  \n",
              "artist_count             2.0      8.0  \n",
              "released_year         2022.0   2023.0  \n",
              "released_month           9.0     12.0  \n",
              "released_day            22.0     31.0  \n",
              "in_spotify_playlists  5542.0  52898.0  \n",
              "in_spotify_charts       16.0    147.0  \n",
              "in_apple_playlists      88.0    672.0  \n",
              "in_apple_charts         87.0    275.0  \n",
              "in_deezer_charts         2.0     58.0  \n",
              "bpm                    140.0    206.0  \n",
              "danceability_%          78.0     96.0  \n",
              "valence_%               70.0     97.0  \n",
              "energy_%                77.0     97.0  \n",
              "acousticness_%          43.0     97.0  \n",
              "instrumentalness_%       0.0     91.0  \n",
              "liveness_%              24.0     97.0  \n",
              "speechiness_%           11.0     64.0  "
            ],
            "text/html": [
              "\n",
              "  <div id=\"df-f6b11407-7254-473c-951a-d2aba96c3524\" class=\"colab-df-container\">\n",
              "    <div>\n",
              "<style scoped>\n",
              "    .dataframe tbody tr th:only-of-type {\n",
              "        vertical-align: middle;\n",
              "    }\n",
              "\n",
              "    .dataframe tbody tr th {\n",
              "        vertical-align: top;\n",
              "    }\n",
              "\n",
              "    .dataframe thead th {\n",
              "        text-align: right;\n",
              "    }\n",
              "</style>\n",
              "<table border=\"1\" class=\"dataframe\">\n",
              "  <thead>\n",
              "    <tr style=\"text-align: right;\">\n",
              "      <th></th>\n",
              "      <th>count</th>\n",
              "      <th>mean</th>\n",
              "      <th>std</th>\n",
              "      <th>min</th>\n",
              "      <th>25%</th>\n",
              "      <th>50%</th>\n",
              "      <th>75%</th>\n",
              "      <th>max</th>\n",
              "    </tr>\n",
              "  </thead>\n",
              "  <tbody>\n",
              "    <tr>\n",
              "      <th>artist_count</th>\n",
              "      <td>953.0</td>\n",
              "      <td>1.556139</td>\n",
              "      <td>0.893044</td>\n",
              "      <td>1.0</td>\n",
              "      <td>1.0</td>\n",
              "      <td>1.0</td>\n",
              "      <td>2.0</td>\n",
              "      <td>8.0</td>\n",
              "    </tr>\n",
              "    <tr>\n",
              "      <th>released_year</th>\n",
              "      <td>953.0</td>\n",
              "      <td>2018.238195</td>\n",
              "      <td>11.116218</td>\n",
              "      <td>1930.0</td>\n",
              "      <td>2020.0</td>\n",
              "      <td>2022.0</td>\n",
              "      <td>2022.0</td>\n",
              "      <td>2023.0</td>\n",
              "    </tr>\n",
              "    <tr>\n",
              "      <th>released_month</th>\n",
              "      <td>953.0</td>\n",
              "      <td>6.033578</td>\n",
              "      <td>3.566435</td>\n",
              "      <td>1.0</td>\n",
              "      <td>3.0</td>\n",
              "      <td>6.0</td>\n",
              "      <td>9.0</td>\n",
              "      <td>12.0</td>\n",
              "    </tr>\n",
              "    <tr>\n",
              "      <th>released_day</th>\n",
              "      <td>953.0</td>\n",
              "      <td>13.930745</td>\n",
              "      <td>9.201949</td>\n",
              "      <td>1.0</td>\n",
              "      <td>6.0</td>\n",
              "      <td>13.0</td>\n",
              "      <td>22.0</td>\n",
              "      <td>31.0</td>\n",
              "    </tr>\n",
              "    <tr>\n",
              "      <th>in_spotify_playlists</th>\n",
              "      <td>953.0</td>\n",
              "      <td>5200.124869</td>\n",
              "      <td>7897.608990</td>\n",
              "      <td>31.0</td>\n",
              "      <td>875.0</td>\n",
              "      <td>2224.0</td>\n",
              "      <td>5542.0</td>\n",
              "      <td>52898.0</td>\n",
              "    </tr>\n",
              "    <tr>\n",
              "      <th>in_spotify_charts</th>\n",
              "      <td>953.0</td>\n",
              "      <td>12.009444</td>\n",
              "      <td>19.575992</td>\n",
              "      <td>0.0</td>\n",
              "      <td>0.0</td>\n",
              "      <td>3.0</td>\n",
              "      <td>16.0</td>\n",
              "      <td>147.0</td>\n",
              "    </tr>\n",
              "    <tr>\n",
              "      <th>in_apple_playlists</th>\n",
              "      <td>953.0</td>\n",
              "      <td>67.812172</td>\n",
              "      <td>86.441493</td>\n",
              "      <td>0.0</td>\n",
              "      <td>13.0</td>\n",
              "      <td>34.0</td>\n",
              "      <td>88.0</td>\n",
              "      <td>672.0</td>\n",
              "    </tr>\n",
              "    <tr>\n",
              "      <th>in_apple_charts</th>\n",
              "      <td>953.0</td>\n",
              "      <td>51.908709</td>\n",
              "      <td>50.630241</td>\n",
              "      <td>0.0</td>\n",
              "      <td>7.0</td>\n",
              "      <td>38.0</td>\n",
              "      <td>87.0</td>\n",
              "      <td>275.0</td>\n",
              "    </tr>\n",
              "    <tr>\n",
              "      <th>in_deezer_charts</th>\n",
              "      <td>953.0</td>\n",
              "      <td>2.666317</td>\n",
              "      <td>6.035599</td>\n",
              "      <td>0.0</td>\n",
              "      <td>0.0</td>\n",
              "      <td>0.0</td>\n",
              "      <td>2.0</td>\n",
              "      <td>58.0</td>\n",
              "    </tr>\n",
              "    <tr>\n",
              "      <th>bpm</th>\n",
              "      <td>953.0</td>\n",
              "      <td>122.540399</td>\n",
              "      <td>28.057802</td>\n",
              "      <td>65.0</td>\n",
              "      <td>100.0</td>\n",
              "      <td>121.0</td>\n",
              "      <td>140.0</td>\n",
              "      <td>206.0</td>\n",
              "    </tr>\n",
              "    <tr>\n",
              "      <th>danceability_%</th>\n",
              "      <td>953.0</td>\n",
              "      <td>66.969570</td>\n",
              "      <td>14.630610</td>\n",
              "      <td>23.0</td>\n",
              "      <td>57.0</td>\n",
              "      <td>69.0</td>\n",
              "      <td>78.0</td>\n",
              "      <td>96.0</td>\n",
              "    </tr>\n",
              "    <tr>\n",
              "      <th>valence_%</th>\n",
              "      <td>953.0</td>\n",
              "      <td>51.431270</td>\n",
              "      <td>23.480632</td>\n",
              "      <td>4.0</td>\n",
              "      <td>32.0</td>\n",
              "      <td>51.0</td>\n",
              "      <td>70.0</td>\n",
              "      <td>97.0</td>\n",
              "    </tr>\n",
              "    <tr>\n",
              "      <th>energy_%</th>\n",
              "      <td>953.0</td>\n",
              "      <td>64.279119</td>\n",
              "      <td>16.550526</td>\n",
              "      <td>9.0</td>\n",
              "      <td>53.0</td>\n",
              "      <td>66.0</td>\n",
              "      <td>77.0</td>\n",
              "      <td>97.0</td>\n",
              "    </tr>\n",
              "    <tr>\n",
              "      <th>acousticness_%</th>\n",
              "      <td>953.0</td>\n",
              "      <td>27.057712</td>\n",
              "      <td>25.996077</td>\n",
              "      <td>0.0</td>\n",
              "      <td>6.0</td>\n",
              "      <td>18.0</td>\n",
              "      <td>43.0</td>\n",
              "      <td>97.0</td>\n",
              "    </tr>\n",
              "    <tr>\n",
              "      <th>instrumentalness_%</th>\n",
              "      <td>953.0</td>\n",
              "      <td>1.581322</td>\n",
              "      <td>8.409800</td>\n",
              "      <td>0.0</td>\n",
              "      <td>0.0</td>\n",
              "      <td>0.0</td>\n",
              "      <td>0.0</td>\n",
              "      <td>91.0</td>\n",
              "    </tr>\n",
              "    <tr>\n",
              "      <th>liveness_%</th>\n",
              "      <td>953.0</td>\n",
              "      <td>18.213012</td>\n",
              "      <td>13.711223</td>\n",
              "      <td>3.0</td>\n",
              "      <td>10.0</td>\n",
              "      <td>12.0</td>\n",
              "      <td>24.0</td>\n",
              "      <td>97.0</td>\n",
              "    </tr>\n",
              "    <tr>\n",
              "      <th>speechiness_%</th>\n",
              "      <td>953.0</td>\n",
              "      <td>10.131165</td>\n",
              "      <td>9.912888</td>\n",
              "      <td>2.0</td>\n",
              "      <td>4.0</td>\n",
              "      <td>6.0</td>\n",
              "      <td>11.0</td>\n",
              "      <td>64.0</td>\n",
              "    </tr>\n",
              "  </tbody>\n",
              "</table>\n",
              "</div>\n",
              "    <div class=\"colab-df-buttons\">\n",
              "\n",
              "  <div class=\"colab-df-container\">\n",
              "    <button class=\"colab-df-convert\" onclick=\"convertToInteractive('df-f6b11407-7254-473c-951a-d2aba96c3524')\"\n",
              "            title=\"Convert this dataframe to an interactive table.\"\n",
              "            style=\"display:none;\">\n",
              "\n",
              "  <svg xmlns=\"http://www.w3.org/2000/svg\" height=\"24px\" viewBox=\"0 -960 960 960\">\n",
              "    <path d=\"M120-120v-720h720v720H120Zm60-500h600v-160H180v160Zm220 220h160v-160H400v160Zm0 220h160v-160H400v160ZM180-400h160v-160H180v160Zm440 0h160v-160H620v160ZM180-180h160v-160H180v160Zm440 0h160v-160H620v160Z\"/>\n",
              "  </svg>\n",
              "    </button>\n",
              "\n",
              "  <style>\n",
              "    .colab-df-container {\n",
              "      display:flex;\n",
              "      gap: 12px;\n",
              "    }\n",
              "\n",
              "    .colab-df-convert {\n",
              "      background-color: #E8F0FE;\n",
              "      border: none;\n",
              "      border-radius: 50%;\n",
              "      cursor: pointer;\n",
              "      display: none;\n",
              "      fill: #1967D2;\n",
              "      height: 32px;\n",
              "      padding: 0 0 0 0;\n",
              "      width: 32px;\n",
              "    }\n",
              "\n",
              "    .colab-df-convert:hover {\n",
              "      background-color: #E2EBFA;\n",
              "      box-shadow: 0px 1px 2px rgba(60, 64, 67, 0.3), 0px 1px 3px 1px rgba(60, 64, 67, 0.15);\n",
              "      fill: #174EA6;\n",
              "    }\n",
              "\n",
              "    .colab-df-buttons div {\n",
              "      margin-bottom: 4px;\n",
              "    }\n",
              "\n",
              "    [theme=dark] .colab-df-convert {\n",
              "      background-color: #3B4455;\n",
              "      fill: #D2E3FC;\n",
              "    }\n",
              "\n",
              "    [theme=dark] .colab-df-convert:hover {\n",
              "      background-color: #434B5C;\n",
              "      box-shadow: 0px 1px 3px 1px rgba(0, 0, 0, 0.15);\n",
              "      filter: drop-shadow(0px 1px 2px rgba(0, 0, 0, 0.3));\n",
              "      fill: #FFFFFF;\n",
              "    }\n",
              "  </style>\n",
              "\n",
              "    <script>\n",
              "      const buttonEl =\n",
              "        document.querySelector('#df-f6b11407-7254-473c-951a-d2aba96c3524 button.colab-df-convert');\n",
              "      buttonEl.style.display =\n",
              "        google.colab.kernel.accessAllowed ? 'block' : 'none';\n",
              "\n",
              "      async function convertToInteractive(key) {\n",
              "        const element = document.querySelector('#df-f6b11407-7254-473c-951a-d2aba96c3524');\n",
              "        const dataTable =\n",
              "          await google.colab.kernel.invokeFunction('convertToInteractive',\n",
              "                                                    [key], {});\n",
              "        if (!dataTable) return;\n",
              "\n",
              "        const docLinkHtml = 'Like what you see? Visit the ' +\n",
              "          '<a target=\"_blank\" href=https://colab.research.google.com/notebooks/data_table.ipynb>data table notebook</a>'\n",
              "          + ' to learn more about interactive tables.';\n",
              "        element.innerHTML = '';\n",
              "        dataTable['output_type'] = 'display_data';\n",
              "        await google.colab.output.renderOutput(dataTable, element);\n",
              "        const docLink = document.createElement('div');\n",
              "        docLink.innerHTML = docLinkHtml;\n",
              "        element.appendChild(docLink);\n",
              "      }\n",
              "    </script>\n",
              "  </div>\n",
              "\n",
              "\n",
              "<div id=\"df-dc1d5da5-6b8f-4fce-a344-80266481ada6\">\n",
              "  <button class=\"colab-df-quickchart\" onclick=\"quickchart('df-dc1d5da5-6b8f-4fce-a344-80266481ada6')\"\n",
              "            title=\"Suggest charts.\"\n",
              "            style=\"display:none;\">\n",
              "\n",
              "<svg xmlns=\"http://www.w3.org/2000/svg\" height=\"24px\"viewBox=\"0 0 24 24\"\n",
              "     width=\"24px\">\n",
              "    <g>\n",
              "        <path d=\"M19 3H5c-1.1 0-2 .9-2 2v14c0 1.1.9 2 2 2h14c1.1 0 2-.9 2-2V5c0-1.1-.9-2-2-2zM9 17H7v-7h2v7zm4 0h-2V7h2v10zm4 0h-2v-4h2v4z\"/>\n",
              "    </g>\n",
              "</svg>\n",
              "  </button>\n",
              "\n",
              "<style>\n",
              "  .colab-df-quickchart {\n",
              "      --bg-color: #E8F0FE;\n",
              "      --fill-color: #1967D2;\n",
              "      --hover-bg-color: #E2EBFA;\n",
              "      --hover-fill-color: #174EA6;\n",
              "      --disabled-fill-color: #AAA;\n",
              "      --disabled-bg-color: #DDD;\n",
              "  }\n",
              "\n",
              "  [theme=dark] .colab-df-quickchart {\n",
              "      --bg-color: #3B4455;\n",
              "      --fill-color: #D2E3FC;\n",
              "      --hover-bg-color: #434B5C;\n",
              "      --hover-fill-color: #FFFFFF;\n",
              "      --disabled-bg-color: #3B4455;\n",
              "      --disabled-fill-color: #666;\n",
              "  }\n",
              "\n",
              "  .colab-df-quickchart {\n",
              "    background-color: var(--bg-color);\n",
              "    border: none;\n",
              "    border-radius: 50%;\n",
              "    cursor: pointer;\n",
              "    display: none;\n",
              "    fill: var(--fill-color);\n",
              "    height: 32px;\n",
              "    padding: 0;\n",
              "    width: 32px;\n",
              "  }\n",
              "\n",
              "  .colab-df-quickchart:hover {\n",
              "    background-color: var(--hover-bg-color);\n",
              "    box-shadow: 0 1px 2px rgba(60, 64, 67, 0.3), 0 1px 3px 1px rgba(60, 64, 67, 0.15);\n",
              "    fill: var(--button-hover-fill-color);\n",
              "  }\n",
              "\n",
              "  .colab-df-quickchart-complete:disabled,\n",
              "  .colab-df-quickchart-complete:disabled:hover {\n",
              "    background-color: var(--disabled-bg-color);\n",
              "    fill: var(--disabled-fill-color);\n",
              "    box-shadow: none;\n",
              "  }\n",
              "\n",
              "  .colab-df-spinner {\n",
              "    border: 2px solid var(--fill-color);\n",
              "    border-color: transparent;\n",
              "    border-bottom-color: var(--fill-color);\n",
              "    animation:\n",
              "      spin 1s steps(1) infinite;\n",
              "  }\n",
              "\n",
              "  @keyframes spin {\n",
              "    0% {\n",
              "      border-color: transparent;\n",
              "      border-bottom-color: var(--fill-color);\n",
              "      border-left-color: var(--fill-color);\n",
              "    }\n",
              "    20% {\n",
              "      border-color: transparent;\n",
              "      border-left-color: var(--fill-color);\n",
              "      border-top-color: var(--fill-color);\n",
              "    }\n",
              "    30% {\n",
              "      border-color: transparent;\n",
              "      border-left-color: var(--fill-color);\n",
              "      border-top-color: var(--fill-color);\n",
              "      border-right-color: var(--fill-color);\n",
              "    }\n",
              "    40% {\n",
              "      border-color: transparent;\n",
              "      border-right-color: var(--fill-color);\n",
              "      border-top-color: var(--fill-color);\n",
              "    }\n",
              "    60% {\n",
              "      border-color: transparent;\n",
              "      border-right-color: var(--fill-color);\n",
              "    }\n",
              "    80% {\n",
              "      border-color: transparent;\n",
              "      border-right-color: var(--fill-color);\n",
              "      border-bottom-color: var(--fill-color);\n",
              "    }\n",
              "    90% {\n",
              "      border-color: transparent;\n",
              "      border-bottom-color: var(--fill-color);\n",
              "    }\n",
              "  }\n",
              "</style>\n",
              "\n",
              "  <script>\n",
              "    async function quickchart(key) {\n",
              "      const quickchartButtonEl =\n",
              "        document.querySelector('#' + key + ' button');\n",
              "      quickchartButtonEl.disabled = true;  // To prevent multiple clicks.\n",
              "      quickchartButtonEl.classList.add('colab-df-spinner');\n",
              "      try {\n",
              "        const charts = await google.colab.kernel.invokeFunction(\n",
              "            'suggestCharts', [key], {});\n",
              "      } catch (error) {\n",
              "        console.error('Error during call to suggestCharts:', error);\n",
              "      }\n",
              "      quickchartButtonEl.classList.remove('colab-df-spinner');\n",
              "      quickchartButtonEl.classList.add('colab-df-quickchart-complete');\n",
              "    }\n",
              "    (() => {\n",
              "      let quickchartButtonEl =\n",
              "        document.querySelector('#df-dc1d5da5-6b8f-4fce-a344-80266481ada6 button');\n",
              "      quickchartButtonEl.style.display =\n",
              "        google.colab.kernel.accessAllowed ? 'block' : 'none';\n",
              "    })();\n",
              "  </script>\n",
              "</div>\n",
              "    </div>\n",
              "  </div>\n"
            ]
          },
          "metadata": {},
          "execution_count": 4
        }
      ]
    },
    {
      "cell_type": "markdown",
      "source": [
        "Here's a summary of the basic statistics for the numeric columns:\n",
        "\n",
        "- **artist_count**: Most of the songs are by a single artist, but there are songs with up to 8 contributing artists.\n",
        "- **released_year**: The songs in this dataset span from 1930 to 2023. However, the 25th percentile starts from 2020, indicating that a significant portion of the songs is quite recent.\n",
        "- **in_spotify_playlists**: The songs are included in a wide range of playlists, with the maximum being 52,898 playlists.\n",
        "- **in_spotify_charts**: The maximum rank of a song on Spotify charts in this dataset is 147.\n",
        "- **bpm (Beats Per Minute)**: Ranges from 65 to 206, indicating a variety of song tempos.\n",
        "- **danceability_%**, **valence_%**, **energy_%**, and others: These are measures of the audio features of the songs, and they have varying distributions.\n"
      ],
      "metadata": {
        "id": "uUWwrFQhNqN_"
      }
    },
    {
      "cell_type": "code",
      "source": [
        "# Columns to visualize\n",
        "cols_to_viz = ['in_spotify_playlists', 'in_spotify_charts', 'bpm',\n",
        "               'danceability_%', 'valence_%', 'energy_%', 'acousticness_%']\n",
        "\n",
        "# Plot the distributions\n",
        "plt.figure(figsize=(15, 12))\n",
        "for i, col in enumerate(cols_to_viz, 1):\n",
        "    plt.subplot(3, 3, i)\n",
        "    sns.histplot(data[col], bins=30, kde=True, color='skyblue')\n",
        "    plt.title(f'Distribution of {col}')\n",
        "    plt.tight_layout()\n",
        "\n",
        "plt.show()"
      ],
      "metadata": {
        "colab": {
          "base_uri": "https://localhost:8080/",
          "height": 1000
        },
        "id": "tyOTXrDINYUT",
        "outputId": "510c6e90-d4fb-4a83-835b-a3a84a609373"
      },
      "execution_count": 5,
      "outputs": [
        {
          "output_type": "display_data",
          "data": {
            "text/plain": [
              "<Figure size 1500x1200 with 7 Axes>"
            ],
            "image/png": "[encoded data removed]"
          },
          "metadata": {}
        }
      ]
    },
    {
      "cell_type": "markdown",
      "source": [
        "Here's a visual representation of the distributions for some key features:\n",
        "\n",
        "- **in_spotify_playlists**: Most songs are present in a few playlists, with a few songs present in a large number of playlists.\n",
        "- **in_spotify_charts**: Many songs are not present in the Spotify charts (0 rank). However, there's a wide range of ranks for the songs that are.\n",
        "- **bpm (Beats Per Minute)**: We can observe a diverse distribution of song tempos, with peaks around the 100 and 140 BPM marks.\n",
        "- **danceability_%**: The majority of songs have high danceability, with a peak around 70%.\n",
        "- **valence_%**: The distribution is fairly uniform, meaning songs in the dataset span a wide range of moods.\n",
        "- **energy_%**: The majority of songs have medium to high energy levels.\n",
        "- **acousticness_%**: Most songs have low acousticness, with a few exceptions having high acoustic content.\n"
      ],
      "metadata": {
        "id": "jybI1heZONX2"
      }
    },
    {
      "cell_type": "code",
      "source": [
        "# Check for missing values in the dataset\n",
        "missing_values = data.isnull().sum()\n",
        "missing_values[missing_values > 0]\n"
      ],
      "metadata": {
        "colab": {
          "base_uri": "https://localhost:8080/"
        },
        "id": "uHFhJaLuN8Uz",
        "outputId": "9f34a2ae-efc7-4fd5-a772-3c1813226c91"
      },
      "execution_count": 6,
      "outputs": [
        {
          "output_type": "execute_result",
          "data": {
            "text/plain": [
              "in_shazam_charts    50\n",
              "key                 95\n",
              "dtype: int64"
            ]
          },
          "metadata": {},
          "execution_count": 6
        }
      ]
    },
    {
      "cell_type": "markdown",
      "source": [
        "The columns with missing values are:\n",
        "\n",
        "- **in_shazam_charts**: 50 missing values\n",
        "- **key**: 95 missing values\n"
      ],
      "metadata": {
        "id": "Vbhg_XN2Ojv4"
      }
    },
    {
      "cell_type": "markdown",
      "source": [
        "To handle these missing values, we can adopt the following strategies:\n",
        "\n",
        "- For `in_shazam_charts`, since it represents the presence and rank of the song on Shazam charts, we can assume that missing values indicate the song's absence from the chart. Thus, we can replace missing values with 0.\n",
        "- For `key`, which represents the musical key of the song, we can replace the missing values with the mode (most frequent value) of the column.\n"
      ],
      "metadata": {
        "id": "keOryP8WO3_H"
      }
    },
    {
      "cell_type": "code",
      "source": [
        "# Fill missing values\n",
        "data['in_shazam_charts'].fillna(0, inplace=True)\n",
        "data['key'].fillna(data['key'].mode()[0], inplace=True)\n",
        "\n",
        "# Check if all missing values are handled\n",
        "missing_values_updated = data.isnull().sum()\n",
        "missing_values_updated[missing_values_updated > 0]\n"
      ],
      "metadata": {
        "colab": {
          "base_uri": "https://localhost:8080/"
        },
        "id": "MsGbWnwvOYzE",
        "outputId": "74b3f735-1d53-4ac9-826c-8a72d3ebcd03"
      },
      "execution_count": 7,
      "outputs": [
        {
          "output_type": "execute_result",
          "data": {
            "text/plain": [
              "Series([], dtype: int64)"
            ]
          },
          "metadata": {},
          "execution_count": 7
        }
      ]
    },
    {
      "cell_type": "markdown",
      "source": [
        "## Exploratory Data Analysis (EDA) Summary:\n",
        "\n",
        "We've visualized the distribution of some key features such as 'in_spotify_playlists', 'in_spotify_charts', 'bpm', 'danceability_%', 'valence_%', 'energy_%', and 'acousticness_%'.\n",
        "\n",
        "The dataset has a total of 953 songs, and from the basic statistics:\n",
        "\n",
        "- The majority of songs are from recent years, with a median release year of 2022.\n",
        "- Most songs are in the Major mode, have a median BPM of 121, and a danceability score around 69%.\n",
        "- The average song has been added to about 5200 Spotify playlists and appeared on Spotify charts about 12 times.\n",
        "\n",
        "We've identified and addressed missing values in the 'in_shazam_charts' and 'key' columns.\n"
      ],
      "metadata": {
        "id": "dTccTCd2Tcpv"
      }
    },
    {
      "cell_type": "markdown",
      "source": [
        "# Data Pre-processing\n",
        "\n",
        "For this phase:\n",
        "\n",
        "- We'll handle categorical features by encoding them.\n",
        "- Scale the numerical features for better model performance.\n",
        "- Split the data into training and test sets.\n"
      ],
      "metadata": {
        "id": "JPQ5HrQHPqem"
      }
    },
    {
      "cell_type": "markdown",
      "source": [
        "Let's start with handling the categorical features. For our dataset, the categorical features are `track_name`, `artist(s)_name`, `key`, and `mode`.\n",
        "\n",
        "Given the high cardinality (many unique values) of `track_name` and `artist(s)_name`, one-hot encoding may not be feasible. Instead, we can drop `track_name` as it's a unique identifier and may not contribute to the prediction. For `artist(s)_name`, we can encode it based on its frequency of occurrence (frequency encoding).\n",
        "\n",
        "For the features `key` and `mode`, we can use one-hot encoding.\n"
      ],
      "metadata": {
        "id": "yZjUzPcXYHDz"
      }
    },
    {
      "cell_type": "code",
      "source": [
        "# Drop 'track_name' column\n",
        "data.drop('track_name', axis=1, inplace=True)\n",
        "\n",
        "# Frequency encoding for 'artist(s)_name'\n",
        "artist_frequency = data['artist(s)_name'].value_counts(normalize=True)\n",
        "data['artist(s)_name'] = data['artist(s)_name'].map(artist_frequency)\n",
        "\n",
        "# One-hot encoding for 'key' and 'mode'\n",
        "data = pd.get_dummies(data, columns=['key', 'mode'], drop_first=True)\n"
      ],
      "metadata": {
        "id": "1WvywbCoPiXK"
      },
      "execution_count": 8,
      "outputs": []
    },
    {
      "cell_type": "markdown",
      "source": [
        "- `track_name` has been dropped.\n",
        "- `artist(s)_name` has been frequency encoded. This means each artist name is now represented by its frequency of occurrence in the dataset.\n",
        "- `key` and `mode` have been one-hot encoded, resulting in multiple columns representing each possible value.\n"
      ],
      "metadata": {
        "id": "N1aWUZ_RYrpp"
      }
    },
    {
      "cell_type": "code",
      "source": [
        "# Convert columns with potential commas to numeric format without dealing with NaN values for now\n",
        "cols_with_commas = data.columns[data.astype(str).apply(lambda x: x.str.contains(',', na=False)).any()]\n",
        "\n",
        "for col in cols_with_commas:\n",
        "    if data[col].dtype == 'object':\n",
        "        data[col] = data[col].str.replace(',', '', regex=True).astype(float)\n",
        "\n",
        "# Handle NaN values in 'in_shazam_charts' column\n",
        "median_value_shazam = data['in_shazam_charts'].median()\n",
        "data['in_shazam_charts'].fillna(median_value_shazam, inplace=True)\n",
        "\n",
        "# Initialize the scaler\n",
        "from sklearn.preprocessing import StandardScaler\n",
        "scaler = StandardScaler()\n",
        "\n",
        "# Features to scale - excluding the target variable 'streams' for now\n",
        "features_to_scale = data.columns.difference(['streams'])\n",
        "\n",
        "# Scale the numerical features\n",
        "data[features_to_scale] = scaler.fit_transform(data[features_to_scale])\n",
        "\n",
        "# Display the first few rows of the scaled dataset\n",
        "data.head()\n"
      ],
      "metadata": {
        "colab": {
          "base_uri": "https://localhost:8080/",
          "height": 256
        },
        "id": "I-1G-Us0hb8o",
        "outputId": "3055345b-b1b9-43d5-8281-d61ef5200d5b"
      },
      "execution_count": 9,
      "outputs": [
        {
          "output_type": "execute_result",
          "data": {
            "text/plain": [
              "   artist(s)_name  artist_count  released_year  released_month  released_day  \\\n",
              "0       -0.482742      0.497282       0.428590        0.271119      0.007530   \n",
              "1       -0.482742     -0.623072       0.428590       -0.851038      0.986097   \n",
              "2        0.298775     -0.623072       0.428590       -0.009420      1.747205   \n",
              "3        3.815605     -0.623072       0.068567        0.551659      0.986097   \n",
              "4        1.861811     -0.623072       0.428590       -0.289959      0.442449   \n",
              "\n",
              "   in_spotify_playlists  in_spotify_charts    streams  in_apple_playlists  \\\n",
              "0             -0.588731           6.899341  141381703           -0.287191   \n",
              "1             -0.472052           1.839470  133716286           -0.229318   \n",
              "2             -0.481807           5.161607  140003974            0.303113   \n",
              "3              0.336718           4.497180  800840817            0.557754   \n",
              "4             -0.261878           1.941690  303236322            0.187368   \n",
              "\n",
              "   in_apple_charts  ...     key_B    key_C#     key_D    key_D#     key_E  \\\n",
              "0         4.171462  ...  3.281072 -0.539748 -0.304778 -0.189393 -0.263789   \n",
              "1         1.464149  ... -0.304778  1.852716 -0.304778 -0.189393 -0.263789   \n",
              "2         3.064823  ... -0.304778 -0.539748 -0.304778 -0.189393 -0.263789   \n",
              "3         3.064823  ... -0.304778 -0.539748 -0.304778 -0.189393 -0.263789   \n",
              "4         1.602478  ... -0.304778 -0.539748 -0.304778 -0.189393 -0.263789   \n",
              "\n",
              "      key_F    key_F#     key_G    key_G#  mode_Minor  \n",
              "0 -0.320951 -0.288018 -0.334692 -0.324913   -0.855995  \n",
              "1 -0.320951 -0.288018 -0.334692 -0.324913   -0.855995  \n",
              "2  3.115745 -0.288018 -0.334692 -0.324913   -0.855995  \n",
              "3 -0.320951 -0.288018 -0.334692 -0.324913   -0.855995  \n",
              "4 -0.320951 -0.288018 -0.334692 -0.324913    1.168231  \n",
              "\n",
              "[5 rows x 32 columns]"
            ],
            "text/html": [
              "\n",
              "  <div id=\"df-78292fc4-4dd8-4410-bb42-98c89c24a120\" class=\"colab-df-container\">\n",
              "    <div>\n",
              "<style scoped>\n",
              "    .dataframe tbody tr th:only-of-type {\n",
              "        vertical-align: middle;\n",
              "    }\n",
              "\n",
              "    .dataframe tbody tr th {\n",
              "        vertical-align: top;\n",
              "    }\n",
              "\n",
              "    .dataframe thead th {\n",
              "        text-align: right;\n",
              "    }\n",
              "</style>\n",
              "<table border=\"1\" class=\"dataframe\">\n",
              "  <thead>\n",
              "    <tr style=\"text-align: right;\">\n",
              "      <th></th>\n",
              "      <th>artist(s)_name</th>\n",
              "      <th>artist_count</th>\n",
              "      <th>released_year</th>\n",
              "      <th>released_month</th>\n",
              "      <th>released_day</th>\n",
              "      <th>in_spotify_playlists</th>\n",
              "      <th>in_spotify_charts</th>\n",
              "      <th>streams</th>\n",
              "      <th>in_apple_playlists</th>\n",
              "      <th>in_apple_charts</th>\n",
              "      <th>...</th>\n",
              "      <th>key_B</th>\n",
              "      <th>key_C#</th>\n",
              "      <th>key_D</th>\n",
              "      <th>key_D#</th>\n",
              "      <th>key_E</th>\n",
              "      <th>key_F</th>\n",
              "      <th>key_F#</th>\n",
              "      <th>key_G</th>\n",
              "      <th>key_G#</th>\n",
              "      <th>mode_Minor</th>\n",
              "    </tr>\n",
              "  </thead>\n",
              "  <tbody>\n",
              "    <tr>\n",
              "      <th>0</th>\n",
              "      <td>-0.482742</td>\n",
              "      <td>0.497282</td>\n",
              "      <td>0.428590</td>\n",
              "      <td>0.271119</td>\n",
              "      <td>0.007530</td>\n",
              "      <td>-0.588731</td>\n",
              "      <td>6.899341</td>\n",
              "      <td>141381703</td>\n",
              "      <td>-0.287191</td>\n",
              "      <td>4.171462</td>\n",
              "      <td>...</td>\n",
              "      <td>3.281072</td>\n",
              "      <td>-0.539748</td>\n",
              "      <td>-0.304778</td>\n",
              "      <td>-0.189393</td>\n",
              "      <td>-0.263789</td>\n",
              "      <td>-0.320951</td>\n",
              "      <td>-0.288018</td>\n",
              "      <td>-0.334692</td>\n",
              "      <td>-0.324913</td>\n",
              "      <td>-0.855995</td>\n",
              "    </tr>\n",
              "    <tr>\n",
              "      <th>1</th>\n",
              "      <td>-0.482742</td>\n",
              "      <td>-0.623072</td>\n",
              "      <td>0.428590</td>\n",
              "      <td>-0.851038</td>\n",
              "      <td>0.986097</td>\n",
              "      <td>-0.472052</td>\n",
              "      <td>1.839470</td>\n",
              "      <td>133716286</td>\n",
              "      <td>-0.229318</td>\n",
              "      <td>1.464149</td>\n",
              "      <td>...</td>\n",
              "      <td>-0.304778</td>\n",
              "      <td>1.852716</td>\n",
              "      <td>-0.304778</td>\n",
              "      <td>-0.189393</td>\n",
              "      <td>-0.263789</td>\n",
              "      <td>-0.320951</td>\n",
              "      <td>-0.288018</td>\n",
              "      <td>-0.334692</td>\n",
              "      <td>-0.324913</td>\n",
              "      <td>-0.855995</td>\n",
              "    </tr>\n",
              "    <tr>\n",
              "      <th>2</th>\n",
              "      <td>0.298775</td>\n",
              "      <td>-0.623072</td>\n",
              "      <td>0.428590</td>\n",
              "      <td>-0.009420</td>\n",
              "      <td>1.747205</td>\n",
              "      <td>-0.481807</td>\n",
              "      <td>5.161607</td>\n",
              "      <td>140003974</td>\n",
              "      <td>0.303113</td>\n",
              "      <td>3.064823</td>\n",
              "      <td>...</td>\n",
              "      <td>-0.304778</td>\n",
              "      <td>-0.539748</td>\n",
              "      <td>-0.304778</td>\n",
              "      <td>-0.189393</td>\n",
              "      <td>-0.263789</td>\n",
              "      <td>3.115745</td>\n",
              "      <td>-0.288018</td>\n",
              "      <td>-0.334692</td>\n",
              "      <td>-0.324913</td>\n",
              "      <td>-0.855995</td>\n",
              "    </tr>\n",
              "    <tr>\n",
              "      <th>3</th>\n",
              "      <td>3.815605</td>\n",
              "      <td>-0.623072</td>\n",
              "      <td>0.068567</td>\n",
              "      <td>0.551659</td>\n",
              "      <td>0.986097</td>\n",
              "      <td>0.336718</td>\n",
              "      <td>4.497180</td>\n",
              "      <td>800840817</td>\n",
              "      <td>0.557754</td>\n",
              "      <td>3.064823</td>\n",
              "      <td>...</td>\n",
              "      <td>-0.304778</td>\n",
              "      <td>-0.539748</td>\n",
              "      <td>-0.304778</td>\n",
              "      <td>-0.189393</td>\n",
              "      <td>-0.263789</td>\n",
              "      <td>-0.320951</td>\n",
              "      <td>-0.288018</td>\n",
              "      <td>-0.334692</td>\n",
              "      <td>-0.324913</td>\n",
              "      <td>-0.855995</td>\n",
              "    </tr>\n",
              "    <tr>\n",
              "      <th>4</th>\n",
              "      <td>1.861811</td>\n",
              "      <td>-0.623072</td>\n",
              "      <td>0.428590</td>\n",
              "      <td>-0.289959</td>\n",
              "      <td>0.442449</td>\n",
              "      <td>-0.261878</td>\n",
              "      <td>1.941690</td>\n",
              "      <td>303236322</td>\n",
              "      <td>0.187368</td>\n",
              "      <td>1.602478</td>\n",
              "      <td>...</td>\n",
              "      <td>-0.304778</td>\n",
              "      <td>-0.539748</td>\n",
              "      <td>-0.304778</td>\n",
              "      <td>-0.189393</td>\n",
              "      <td>-0.263789</td>\n",
              "      <td>-0.320951</td>\n",
              "      <td>-0.288018</td>\n",
              "      <td>-0.334692</td>\n",
              "      <td>-0.324913</td>\n",
              "      <td>1.168231</td>\n",
              "    </tr>\n",
              "  </tbody>\n",
              "</table>\n",
              "<p>5 rows × 32 columns</p>\n",
              "</div>\n",
              "    <div class=\"colab-df-buttons\">\n",
              "\n",
              "  <div class=\"colab-df-container\">\n",
              "    <button class=\"colab-df-convert\" onclick=\"convertToInteractive('df-78292fc4-4dd8-4410-bb42-98c89c24a120')\"\n",
              "            title=\"Convert this dataframe to an interactive table.\"\n",
              "            style=\"display:none;\">\n",
              "\n",
              "  <svg xmlns=\"http://www.w3.org/2000/svg\" height=\"24px\" viewBox=\"0 -960 960 960\">\n",
              "    <path d=\"M120-120v-720h720v720H120Zm60-500h600v-160H180v160Zm220 220h160v-160H400v160Zm0 220h160v-160H400v160ZM180-400h160v-160H180v160Zm440 0h160v-160H620v160ZM180-180h160v-160H180v160Zm440 0h160v-160H620v160Z\"/>\n",
              "  </svg>\n",
              "    </button>\n",
              "\n",
              "  <style>\n",
              "    .colab-df-container {\n",
              "      display:flex;\n",
              "      gap: 12px;\n",
              "    }\n",
              "\n",
              "    .colab-df-convert {\n",
              "      background-color: #E8F0FE;\n",
              "      border: none;\n",
              "      border-radius: 50%;\n",
              "      cursor: pointer;\n",
              "      display: none;\n",
              "      fill: #1967D2;\n",
              "      height: 32px;\n",
              "      padding: 0 0 0 0;\n",
              "      width: 32px;\n",
              "    }\n",
              "\n",
              "    .colab-df-convert:hover {\n",
              "      background-color: #E2EBFA;\n",
              "      box-shadow: 0px 1px 2px rgba(60, 64, 67, 0.3), 0px 1px 3px 1px rgba(60, 64, 67, 0.15);\n",
              "      fill: #174EA6;\n",
              "    }\n",
              "\n",
              "    .colab-df-buttons div {\n",
              "      margin-bottom: 4px;\n",
              "    }\n",
              "\n",
              "    [theme=dark] .colab-df-convert {\n",
              "      background-color: #3B4455;\n",
              "      fill: #D2E3FC;\n",
              "    }\n",
              "\n",
              "    [theme=dark] .colab-df-convert:hover {\n",
              "      background-color: #434B5C;\n",
              "      box-shadow: 0px 1px 3px 1px rgba(0, 0, 0, 0.15);\n",
              "      filter: drop-shadow(0px 1px 2px rgba(0, 0, 0, 0.3));\n",
              "      fill: #FFFFFF;\n",
              "    }\n",
              "  </style>\n",
              "\n",
              "    <script>\n",
              "      const buttonEl =\n",
              "        document.querySelector('#df-78292fc4-4dd8-4410-bb42-98c89c24a120 button.colab-df-convert');\n",
              "      buttonEl.style.display =\n",
              "        google.colab.kernel.accessAllowed ? 'block' : 'none';\n",
              "\n",
              "      async function convertToInteractive(key) {\n",
              "        const element = document.querySelector('#df-78292fc4-4dd8-4410-bb42-98c89c24a120');\n",
              "        const dataTable =\n",
              "          await google.colab.kernel.invokeFunction('convertToInteractive',\n",
              "                                                    [key], {});\n",
              "        if (!dataTable) return;\n",
              "\n",
              "        const docLinkHtml = 'Like what you see? Visit the ' +\n",
              "          '<a target=\"_blank\" href=https://colab.research.google.com/notebooks/data_table.ipynb>data table notebook</a>'\n",
              "          + ' to learn more about interactive tables.';\n",
              "        element.innerHTML = '';\n",
              "        dataTable['output_type'] = 'display_data';\n",
              "        await google.colab.output.renderOutput(dataTable, element);\n",
              "        const docLink = document.createElement('div');\n",
              "        docLink.innerHTML = docLinkHtml;\n",
              "        element.appendChild(docLink);\n",
              "      }\n",
              "    </script>\n",
              "  </div>\n",
              "\n",
              "\n",
              "<div id=\"df-a433acf2-4406-4b18-a0da-4f727e7caa62\">\n",
              "  <button class=\"colab-df-quickchart\" onclick=\"quickchart('df-a433acf2-4406-4b18-a0da-4f727e7caa62')\"\n",
              "            title=\"Suggest charts.\"\n",
              "            style=\"display:none;\">\n",
              "\n",
              "<svg xmlns=\"http://www.w3.org/2000/svg\" height=\"24px\"viewBox=\"0 0 24 24\"\n",
              "     width=\"24px\">\n",
              "    <g>\n",
              "        <path d=\"M19 3H5c-1.1 0-2 .9-2 2v14c0 1.1.9 2 2 2h14c1.1 0 2-.9 2-2V5c0-1.1-.9-2-2-2zM9 17H7v-7h2v7zm4 0h-2V7h2v10zm4 0h-2v-4h2v4z\"/>\n",
              "    </g>\n",
              "</svg>\n",
              "  </button>\n",
              "\n",
              "<style>\n",
              "  .colab-df-quickchart {\n",
              "      --bg-color: #E8F0FE;\n",
              "      --fill-color: #1967D2;\n",
              "      --hover-bg-color: #E2EBFA;\n",
              "      --hover-fill-color: #174EA6;\n",
              "      --disabled-fill-color: #AAA;\n",
              "      --disabled-bg-color: #DDD;\n",
              "  }\n",
              "\n",
              "  [theme=dark] .colab-df-quickchart {\n",
              "      --bg-color: #3B4455;\n",
              "      --fill-color: #D2E3FC;\n",
              "      --hover-bg-color: #434B5C;\n",
              "      --hover-fill-color: #FFFFFF;\n",
              "      --disabled-bg-color: #3B4455;\n",
              "      --disabled-fill-color: #666;\n",
              "  }\n",
              "\n",
              "  .colab-df-quickchart {\n",
              "    background-color: var(--bg-color);\n",
              "    border: none;\n",
              "    border-radius: 50%;\n",
              "    cursor: pointer;\n",
              "    display: none;\n",
              "    fill: var(--fill-color);\n",
              "    height: 32px;\n",
              "    padding: 0;\n",
              "    width: 32px;\n",
              "  }\n",
              "\n",
              "  .colab-df-quickchart:hover {\n",
              "    background-color: var(--hover-bg-color);\n",
              "    box-shadow: 0 1px 2px rgba(60, 64, 67, 0.3), 0 1px 3px 1px rgba(60, 64, 67, 0.15);\n",
              "    fill: var(--button-hover-fill-color);\n",
              "  }\n",
              "\n",
              "  .colab-df-quickchart-complete:disabled,\n",
              "  .colab-df-quickchart-complete:disabled:hover {\n",
              "    background-color: var(--disabled-bg-color);\n",
              "    fill: var(--disabled-fill-color);\n",
              "    box-shadow: none;\n",
              "  }\n",
              "\n",
              "  .colab-df-spinner {\n",
              "    border: 2px solid var(--fill-color);\n",
              "    border-color: transparent;\n",
              "    border-bottom-color: var(--fill-color);\n",
              "    animation:\n",
              "      spin 1s steps(1) infinite;\n",
              "  }\n",
              "\n",
              "  @keyframes spin {\n",
              "    0% {\n",
              "      border-color: transparent;\n",
              "      border-bottom-color: var(--fill-color);\n",
              "      border-left-color: var(--fill-color);\n",
              "    }\n",
              "    20% {\n",
              "      border-color: transparent;\n",
              "      border-left-color: var(--fill-color);\n",
              "      border-top-color: var(--fill-color);\n",
              "    }\n",
              "    30% {\n",
              "      border-color: transparent;\n",
              "      border-left-color: var(--fill-color);\n",
              "      border-top-color: var(--fill-color);\n",
              "      border-right-color: var(--fill-color);\n",
              "    }\n",
              "    40% {\n",
              "      border-color: transparent;\n",
              "      border-right-color: var(--fill-color);\n",
              "      border-top-color: var(--fill-color);\n",
              "    }\n",
              "    60% {\n",
              "      border-color: transparent;\n",
              "      border-right-color: var(--fill-color);\n",
              "    }\n",
              "    80% {\n",
              "      border-color: transparent;\n",
              "      border-right-color: var(--fill-color);\n",
              "      border-bottom-color: var(--fill-color);\n",
              "    }\n",
              "    90% {\n",
              "      border-color: transparent;\n",
              "      border-bottom-color: var(--fill-color);\n",
              "    }\n",
              "  }\n",
              "</style>\n",
              "\n",
              "  <script>\n",
              "    async function quickchart(key) {\n",
              "      const quickchartButtonEl =\n",
              "        document.querySelector('#' + key + ' button');\n",
              "      quickchartButtonEl.disabled = true;  // To prevent multiple clicks.\n",
              "      quickchartButtonEl.classList.add('colab-df-spinner');\n",
              "      try {\n",
              "        const charts = await google.colab.kernel.invokeFunction(\n",
              "            'suggestCharts', [key], {});\n",
              "      } catch (error) {\n",
              "        console.error('Error during call to suggestCharts:', error);\n",
              "      }\n",
              "      quickchartButtonEl.classList.remove('colab-df-spinner');\n",
              "      quickchartButtonEl.classList.add('colab-df-quickchart-complete');\n",
              "    }\n",
              "    (() => {\n",
              "      let quickchartButtonEl =\n",
              "        document.querySelector('#df-a433acf2-4406-4b18-a0da-4f727e7caa62 button');\n",
              "      quickchartButtonEl.style.display =\n",
              "        google.colab.kernel.accessAllowed ? 'block' : 'none';\n",
              "    })();\n",
              "  </script>\n",
              "</div>\n",
              "    </div>\n",
              "  </div>\n"
            ]
          },
          "metadata": {},
          "execution_count": 9
        }
      ]
    },
    {
      "cell_type": "code",
      "source": [
        "problematic_row = data[data['streams'].astype(str).str.contains('BPM|Key|Mode|Danceability', na=False)]\n",
        "problematic_row_index = problematic_row.index\n",
        "data.drop(problematic_row_index, inplace=True)\n"
      ],
      "metadata": {
        "id": "_hQJ5ZNME74p"
      },
      "execution_count": 10,
      "outputs": []
    },
    {
      "cell_type": "markdown",
      "source": [
        "# Data Splitting into Train and Test sets"
      ],
      "metadata": {
        "id": "GHXOB-gxjKVd"
      }
    },
    {
      "cell_type": "code",
      "source": [
        "# Define the features (X) and the target (y)\n",
        "X = data.drop('streams', axis=1)\n",
        "y = data['streams']\n",
        "\n",
        "# Split the data into training and test sets (80% train, 20% test)\n",
        "X_train, X_test, y_train, y_test = train_test_split(X, y, test_size=0.2, random_state=42)\n",
        "\n",
        "X_train.shape, X_test.shape, y_train.shape, y_test.shape"
      ],
      "metadata": {
        "colab": {
          "base_uri": "https://localhost:8080/"
        },
        "id": "rjNMiQpIhb1l",
        "outputId": "da38f07e-4480-406b-8bd3-ae760bf5ded6"
      },
      "execution_count": 11,
      "outputs": [
        {
          "output_type": "execute_result",
          "data": {
            "text/plain": [
              "((761, 31), (191, 31), (761,), (191,))"
            ]
          },
          "metadata": {},
          "execution_count": 11
        }
      ]
    },
    {
      "cell_type": "markdown",
      "source": [
        "The data has been successfully split:\n",
        "\n",
        "- Training set (features): 761 samples\n",
        "- Test set (features): 191 samples\n",
        "- Training set (target): 761 samples\n",
        "- Test set (target): 191 samples\n"
      ],
      "metadata": {
        "id": "GJfVolBJjWqm"
      }
    },
    {
      "cell_type": "markdown",
      "source": [
        "# Modeling:\n",
        "\n",
        "In this phase, we'll:\n",
        "\n",
        "- Choose appropriate machine learning algorithms.\n",
        "- Train models on the training data.\n",
        "- Evaluate the initial performance on the test data.\n"
      ],
      "metadata": {
        "id": "rFzDXtjibnmY"
      }
    },
    {
      "cell_type": "markdown",
      "source": [
        "For predicting the number of streams (a continuous value), we're dealing with a regression problem."
      ],
      "metadata": {
        "id": "VN3wrbWScOOV"
      }
    },
    {
      "cell_type": "code",
      "source": [
        "# Initialize the Linear Regression model\n",
        "lr_model = LinearRegression()\n",
        "\n",
        "# Train the model on the training data\n",
        "lr_model.fit(X_train, y_train)\n",
        "\n",
        "# Predict on the test data\n",
        "y_pred = lr_model.predict(X_test)\n",
        "\n",
        "# Calculate the performance metrics\n",
        "mse = mean_squared_error(y_test, y_pred)\n",
        "rmse = mean_squared_error(y_test, y_pred, squared=False)\n",
        "r2 = r2_score(y_test, y_pred)\n",
        "\n",
        "mse, rmse, r2"
      ],
      "metadata": {
        "colab": {
          "base_uri": "https://localhost:8080/"
        },
        "id": "0NyXAEZGbOgj",
        "outputId": "2286ed0e-cf1c-4bac-e9da-57d0c1da83e4"
      },
      "execution_count": 12,
      "outputs": [
        {
          "output_type": "execute_result",
          "data": {
            "text/plain": [
              "(7.1600563279649176e+16, 267582815.74056503, 0.707505444417567)"
            ]
          },
          "metadata": {},
          "execution_count": 12
        }
      ]
    },
    {
      "cell_type": "markdown",
      "source": [
        "The linear regression model's performance on the test data is as follows:\n",
        "\n",
        "- Mean Squared Error (MSE): \\(7.15 \\times 10^{16}\\)\n",
        "- Root Mean Squared Error (RMSE): 267,396,017.17\n",
        "- R-squared (\\(R^2\\)): 0.7079\n",
        "\n",
        "The \\(R^2\\) value of 0.7079 indicates that approximately 70.79% of the variability in the number of streams can be explained by our model. The RMSE, however, is quite high, suggesting that our model's predictions can be off by an average of around 267 million streams.\n",
        "\n",
        "Given the high RMSE, we might want to consider other regression models or fine-tuning this one further.\n"
      ],
      "metadata": {
        "id": "cmeX3nAvFy1o"
      }
    },
    {
      "cell_type": "markdown",
      "source": [
        "# Use RFE for feature selection:"
      ],
      "metadata": {
        "id": "7b6KAmkaGtsc"
      }
    },
    {
      "cell_type": "code",
      "source": [
        "# Initialize the RFE model\n",
        "selector = RFE(lr_model, n_features_to_select=10, step=1)\n",
        "\n",
        "# Fit the model\n",
        "selector.fit(X_train, y_train)\n",
        "\n",
        "# Get the top features\n",
        "top_features = X_train.columns[selector.support_]\n",
        "top_features"
      ],
      "metadata": {
        "colab": {
          "base_uri": "https://localhost:8080/"
        },
        "id": "UOpF8bBWctsC",
        "outputId": "67ee4dcf-bd55-4450-cdcc-4d21e51e84cd"
      },
      "execution_count": 13,
      "outputs": [
        {
          "output_type": "execute_result",
          "data": {
            "text/plain": [
              "Index(['artist_count', 'released_year', 'in_spotify_playlists',\n",
              "       'in_spotify_charts', 'in_apple_playlists', 'in_deezer_charts',\n",
              "       'in_shazam_charts', 'energy_%', 'acousticness_%', 'key_A#'],\n",
              "      dtype='object')"
            ]
          },
          "metadata": {},
          "execution_count": 13
        }
      ]
    },
    {
      "cell_type": "markdown",
      "source": [
        "Now that we've identified the top features, we can retrain the linear regression model using only these features. This can potentially lead to a simpler, more interpretable model without compromising much on performance."
      ],
      "metadata": {
        "id": "YY5Qnr_IHKQj"
      }
    },
    {
      "cell_type": "code",
      "source": [
        "# Restrict the training and test datasets to the top features\n",
        "X_train_top_features = X_train[top_features]\n",
        "X_test_top_features = X_test[top_features]\n",
        "\n",
        "# Train the linear regression model using only the top features\n",
        "lr_model.fit(X_train_top_features, y_train)\n",
        "\n",
        "# Predict on the test data using the top features\n",
        "y_pred_top_features = lr_model.predict(X_test_top_features)\n",
        "\n",
        "# Calculate the performance metrics for the model using the top features\n",
        "mse_top_features = mean_squared_error(y_test, y_pred_top_features)\n",
        "rmse_top_features = mean_squared_error(y_test, y_pred_top_features, squared=False)\n",
        "r2_top_features = r2_score(y_test, y_pred_top_features)\n",
        "\n",
        "\n",
        "mse_top_features, rmse_top_features, r2_top_features"
      ],
      "metadata": {
        "colab": {
          "base_uri": "https://localhost:8080/"
        },
        "id": "kfAnQuHCG0it",
        "outputId": "d6bdabf3-eeda-4203-f12d-8dbff5af4f7a"
      },
      "execution_count": 14,
      "outputs": [
        {
          "output_type": "execute_result",
          "data": {
            "text/plain": [
              "(7.230105235279757e+16, 268888550.0589372, 0.7046438853633366)"
            ]
          },
          "metadata": {},
          "execution_count": 14
        }
      ]
    },
    {
      "cell_type": "markdown",
      "source": [
        "Here's the evaluation:\n",
        "\n",
        "- Mean Squared Error (MSE): \\(7.23 \\times 10^{16}\\)\n",
        "  - This represents the average squared difference between the observed actual outturn values and the values predicted by the model.\n",
        "- Root Mean Squared Error (RMSE): 268,888,550\n",
        "  - This is the square root of MSE and gives the error of the model in terms of the quantity being predicted.\n",
        "- R-squared (\\(R^2\\)): 0.7046\n",
        "  - This metric provides an indication of the goodness of fit of a set of predictions to the actual values. In this context, our model explains approximately 70.46% of the variance in the number of streams.\n"
      ],
      "metadata": {
        "id": "WmLQAvvfISOT"
      }
    },
    {
      "cell_type": "markdown",
      "source": [
        "Let's explore Ridge and Lasso regression. Both are linear models with regularization. Regularization can help prevent overfitting and can also be useful when we have collinearity in our data.\n",
        "\n",
        "### Ridge Regression (L2 regularization):\n",
        "- Adds penalty equivalent to the square of the magnitude of coefficients.\n",
        "- All features are included in the model.\n",
        "\n",
        "### Lasso Regression (L1 regularization):\n",
        "- Adds penalty equivalent to the absolute value of the magnitude of coefficients.\n",
        "- Can exclude some features entirely and set their coefficients to zero.\n"
      ],
      "metadata": {
        "id": "RfjzWK_KIjhf"
      }
    },
    {
      "cell_type": "markdown",
      "source": [
        "To fine-tune these models, we'll:\n",
        "\n",
        "1. Initialize Ridge and Lasso models.\n",
        "2. Use GridSearchCV to find the best hyperparameters.\n",
        "3. Train the models on the training data.\n",
        "4. Evaluate their performance on the test data.\n"
      ],
      "metadata": {
        "id": "TrbvJWxhIunY"
      }
    },
    {
      "cell_type": "code",
      "source": [
        "# Define the range of alpha values for Ridge regression\n",
        "alphas = np.logspace(-6, 6, 13)\n",
        "\n",
        "# Define the grid search for Ridge\n",
        "ridge_grid = {'alpha': alphas}\n",
        "ridge = Ridge()\n",
        "\n",
        "# Use GridSearchCV to find the best alpha\n",
        "ridge_search = GridSearchCV(ridge, ridge_grid, scoring='neg_mean_squared_error', cv=5)\n",
        "ridge_search.fit(X_train_top_features, y_train)\n",
        "\n",
        "# Best alpha value for Ridge\n",
        "best_alpha_ridge = ridge_search.best_params_['alpha']\n",
        "best_alpha_ridge"
      ],
      "metadata": {
        "colab": {
          "base_uri": "https://localhost:8080/"
        },
        "id": "zhsyR2U_Hu__",
        "outputId": "5d5f801d-5a67-4f12-a66d-d92a8d0837b3"
      },
      "execution_count": 15,
      "outputs": [
        {
          "output_type": "execute_result",
          "data": {
            "text/plain": [
              "10.0"
            ]
          },
          "metadata": {},
          "execution_count": 15
        }
      ]
    },
    {
      "cell_type": "markdown",
      "source": [
        "An alpha value of 10.0 is the best regularization strength for Ridge regression according to the grid search.\n",
        "\n",
        "Now, let's train the Ridge model with this optimal alpha value on the training data and evaluate its performance on the test data.\n"
      ],
      "metadata": {
        "id": "SW7gJSbZJQHN"
      }
    },
    {
      "cell_type": "code",
      "source": [
        "# Train the Ridge regression model with the best alpha value:\n",
        "ridge_best = Ridge(alpha=10.0)\n",
        "ridge_best.fit(X_train_top_features, y_train)\n",
        "\n",
        "# Predict on the test data using the best Ridge model:\n",
        "y_pred_ridge = ridge_best.predict(X_test_top_features)\n",
        "\n",
        "# Calculate the performance metrics for the best Ridge model:\n",
        "mse_ridge = mean_squared_error(y_test, y_pred_ridge)\n",
        "rmse_ridge = mean_squared_error(y_test, y_pred_ridge, squared=False)\n",
        "r2_ridge = r2_score(y_test, y_pred_ridge)\n",
        "mse_ridge, rmse_ridge, r2_ridge\n"
      ],
      "metadata": {
        "colab": {
          "base_uri": "https://localhost:8080/"
        },
        "id": "IWfYnhSvJDSH",
        "outputId": "2da78019-ae22-4803-e7ad-10736385de76"
      },
      "execution_count": 16,
      "outputs": [
        {
          "output_type": "execute_result",
          "data": {
            "text/plain": [
              "(7.20591930759362e+16, 268438434.423866, 0.705631901636655)"
            ]
          },
          "metadata": {},
          "execution_count": 16
        }
      ]
    },
    {
      "cell_type": "markdown",
      "source": [
        "Mean Squared Error (MSE): \\(7.21 \\times 10^{16}\\)\n",
        "\n",
        "Root Mean Squared Error (RMSE): 268,438,434\n",
        "\n",
        "R-squared (\\(R^2\\)): 0.7056\n",
        "\n",
        "We observe a slight improvement in the \\(R^2\\) value as compared to the regular linear regression model. This indicates that the Ridge regression model with regularization explains about 70.56% of the variance in the number of streams, which is a bit better than the initial linear regression model.\n"
      ],
      "metadata": {
        "id": "am9ZOmawMKmN"
      }
    },
    {
      "cell_type": "code",
      "source": [
        "# Define the range of alpha values:\n",
        "alphas = np.logspace(-6, 6, 13)\n",
        "\n",
        "# Define the grid search for Lasso and find the best alpha:\n",
        "lasso_grid = {'alpha': alphas}\n",
        "lasso = Lasso()\n",
        "\n",
        "lasso_search = GridSearchCV(lasso, lasso_grid, scoring='neg_mean_squared_error', cv=5)\n",
        "lasso_search.fit(X_train_top_features, y_train)\n",
        "\n",
        "best_alpha_lasso = lasso_search.best_params_['alpha']\n",
        "best_alpha_lasso\n"
      ],
      "metadata": {
        "colab": {
          "base_uri": "https://localhost:8080/"
        },
        "id": "_IhnigdRLz7G",
        "outputId": "a8cf99c3-834a-4b2b-a0de-064997df568c"
      },
      "execution_count": 17,
      "outputs": [
        {
          "output_type": "execute_result",
          "data": {
            "text/plain": [
              "100000.0"
            ]
          },
          "metadata": {},
          "execution_count": 17
        }
      ]
    },
    {
      "cell_type": "code",
      "source": [
        "# Train the Lasso regression model with the best alpha value:\n",
        "lasso_best = Lasso(alpha=100000.0)\n",
        "lasso_best.fit(X_train_top_features, y_train)\n",
        "\n",
        "# Predict on the test data using the best Lasso model:\n",
        "y_pred_lasso = lasso_best.predict(X_test_top_features)\n",
        "\n",
        "# Calculate the performance metrics for the best Lasso model:\n",
        "mse_lasso = mean_squared_error(y_test, y_pred_lasso)\n",
        "rmse_lasso = mean_squared_error(y_test, y_pred_lasso, squared=False)\n",
        "r2_lasso = r2_score(y_test, y_pred_lasso)\n",
        "mse_lasso, rmse_lasso, r2_lasso\n"
      ],
      "metadata": {
        "colab": {
          "base_uri": "https://localhost:8080/"
        },
        "id": "l9bi7y2iMr1h",
        "outputId": "856c1828-1cb6-466e-905d-223aca158fcc"
      },
      "execution_count": 18,
      "outputs": [
        {
          "output_type": "execute_result",
          "data": {
            "text/plain": [
              "(7.228912530008576e+16, 268866370.7124522, 0.7046926084155383)"
            ]
          },
          "metadata": {},
          "execution_count": 18
        }
      ]
    },
    {
      "cell_type": "markdown",
      "source": [
        "Mean Squared Error (MSE): \\(7.23 \\times 10^{16}\\)\n",
        "\n",
        "Root Mean Squared Error (RMSE): 268,866,370\n",
        "\n",
        "R-squared (\\(R^2\\)): 0.7047\n",
        "\n",
        "Comparing the metrics from Ridge and Lasso regression models:\n",
        "\n",
        "- Both Ridge and Lasso models have similar performance metrics.\n",
        "- The \\(R^2\\) values from both models are slightly improved compared to the original linear regression model.\n",
        "- It seems that adding regularization (either L1 from Lasso or L2 from Ridge) to the linear regression model provides a small improvement in terms of the \\(R^2\\) value.\n"
      ],
      "metadata": {
        "id": "hrtR3D7XNnbS"
      }
    },
    {
      "cell_type": "markdown",
      "source": [
        "# Decision Tree Regressor\n",
        "Decision Trees are a type of model used for both classification and regression. Trees answer sequential questions which send us down a certain route of the tree given the answer. The model behaves with a “divide and conquer” strategy."
      ],
      "metadata": {
        "id": "Q6PohipaNzfc"
      }
    },
    {
      "cell_type": "code",
      "source": [
        "# Initialize the Decision Tree Regressor\n",
        "dt_model = DecisionTreeRegressor(random_state=42)\n",
        "\n",
        "# Train the model on the training data\n",
        "dt_model.fit(X_train_top_features, y_train)\n",
        "\n",
        "# Predict on the test data\n",
        "y_pred_dt = dt_model.predict(X_test_top_features)\n",
        "\n",
        "# Calculate the performance metrics for the Decision Tree model\n",
        "mse_dt = mean_squared_error(y_test, y_pred_dt)\n",
        "rmse_dt = mean_squared_error(y_test, y_pred_dt, squared=False)\n",
        "r2_dt = r2_score(y_test, y_pred_dt)\n",
        "\n",
        "mse_dt, rmse_dt, r2_dt"
      ],
      "metadata": {
        "colab": {
          "base_uri": "https://localhost:8080/"
        },
        "id": "g4YLldwqNGrW",
        "outputId": "0fea8456-7395-4f21-d22f-161d373119a9"
      },
      "execution_count": 19,
      "outputs": [
        {
          "output_type": "execute_result",
          "data": {
            "text/plain": [
              "(7.733565599015469e+16, 278092890.9378208, 0.6840770897127075)"
            ]
          },
          "metadata": {},
          "execution_count": 19
        }
      ]
    },
    {
      "cell_type": "markdown",
      "source": [
        "Mean Squared Error (MSE): \\(7.73 \\times 10^{16}\\)\n",
        "\n",
        "Root Mean Squared Error (RMSE): 278,092,890.9\n",
        "\n",
        "R-squared (\\(R^2\\)): 0.6841\n",
        "\n",
        "Compared to the linear regression models (including Ridge and Lasso), the Decision Tree Regressor has a slightly lower \\(R^2\\) value, indicating that the linear models performed better in this case. However, Decision Trees are just the base for more complex models like Random Forests.\n"
      ],
      "metadata": {
        "id": "MwglUkQ9RkaE"
      }
    },
    {
      "cell_type": "markdown",
      "source": [
        "# Random Forest Regressor\n",
        "Random Forest is an ensemble method that creates a 'forest' of decision trees. Each tree is trained on a random subset of the data and makes its own predictions. Random Forest then aggregates these predictions to produce a final result."
      ],
      "metadata": {
        "id": "seHMWnElR07l"
      }
    },
    {
      "cell_type": "code",
      "source": [
        "# Initialize the Random Forest Regressor\n",
        "rf_model = RandomForestRegressor(random_state=42, n_estimators=100)\n",
        "\n",
        "# Train the model on the training data\n",
        "rf_model.fit(X_train_top_features, y_train)\n",
        "\n",
        "# Predict on the test data\n",
        "y_pred_rf = rf_model.predict(X_test_top_features)\n",
        "\n",
        "# Calculate the performance metrics for the Random Forest model\n",
        "mse_rf = mean_squared_error(y_test, y_pred_rf)\n",
        "rmse_rf = mean_squared_error(y_test, y_pred_rf, squared=False)\n",
        "r2_rf = r2_score(y_test, y_pred_rf)\n",
        "\n",
        "mse_rf, rmse_rf, r2_rf"
      ],
      "metadata": {
        "colab": {
          "base_uri": "https://localhost:8080/"
        },
        "id": "zb9Bht35Onlt",
        "outputId": "1cf16fac-56b7-4479-c636-f2d0a16f568f"
      },
      "execution_count": 20,
      "outputs": [
        {
          "output_type": "execute_result",
          "data": {
            "text/plain": [
              "(5.10765807188717e+16, 226001284.77261296, 0.7913477060272949)"
            ]
          },
          "metadata": {},
          "execution_count": 20
        }
      ]
    },
    {
      "cell_type": "markdown",
      "source": [
        "Mean Squared Error (MSE): \\(5.11 \\times 10^{16}\\)\n",
        "\n",
        "Root Mean Squared Error (RMSE): 226,001,284.8\n",
        "\n",
        "R-squared (\\(R^2\\)): 0.7913\n",
        "\n",
        "The Random Forest Regressor has shown a significant improvement compared to the previous models. The \\(R^2\\) value is higher, indicating that the model explains approximately 79.13% of the variance in the target variable. The RMSE is also lower compared to the Decision Tree model, indicating better accuracy.\n"
      ],
      "metadata": {
        "id": "y-EtAvptTXae"
      }
    },
    {
      "cell_type": "markdown",
      "source": [
        "# Gradient Boosting Machine (GBM)\n",
        "Gradient Boosting is an ensemble technique where new models are added to correct the errors made by existing models. Models are added sequentially until no further improvements can be made.\n",
        "\n"
      ],
      "metadata": {
        "id": "Rt9RcA1WUTQ3"
      }
    },
    {
      "cell_type": "code",
      "source": [
        "# Initialize the Gradient Boosting Regressor\n",
        "gbm_model = GradientBoostingRegressor(random_state=42, n_estimators=100)\n",
        "\n",
        "# Train the model on the training data\n",
        "gbm_model.fit(X_train_top_features, y_train)\n",
        "\n",
        "# Predict on the test data\n",
        "y_pred_gbm = gbm_model.predict(X_test_top_features)\n",
        "\n",
        "# Calculate the performance metrics for the GBM model\n",
        "mse_gbm = mean_squared_error(y_test, y_pred_gbm)\n",
        "rmse_gbm = mean_squared_error(y_test, y_pred_gbm, squared=False)\n",
        "r2_gbm = r2_score(y_test, y_pred_gbm)\n",
        "\n",
        "mse_gbm, rmse_gbm, r2_gbm"
      ],
      "metadata": {
        "colab": {
          "base_uri": "https://localhost:8080/"
        },
        "id": "HwGNYydgSGcx",
        "outputId": "7bc1c9d0-51f8-46b8-a55a-b80f7cf1e833"
      },
      "execution_count": 21,
      "outputs": [
        {
          "output_type": "execute_result",
          "data": {
            "text/plain": [
              "(5.56961124289261e+16, 236000238.1967571, 0.7724765154578296)"
            ]
          },
          "metadata": {},
          "execution_count": 21
        }
      ]
    },
    {
      "cell_type": "markdown",
      "source": [
        "Mean Squared Error (MSE): \\(5.57 \\times 10^{16}\\)\n",
        "\n",
        "Root Mean Squared Error (RMSE): 236,000,238.2\n",
        "\n",
        "R-squared (\\(R^2\\)): 0.7725\n",
        "\n",
        "While the Gradient Boosting Machine (GBM) still offers a good performance, the Random Forest Regressor has a slightly better \\(R^2\\) value, indicating that the Random Forest model currently holds the lead in terms of predictive performance.\n"
      ],
      "metadata": {
        "id": "RRbvT3QJWIOu"
      }
    },
    {
      "cell_type": "markdown",
      "source": [
        "# Support Vector Regression (SVR)\n",
        "Support Vector Machines can also be used for regression tasks. The goal of SVR is to find a hyperplane that best fits the data, similar to SVM for classification."
      ],
      "metadata": {
        "id": "k1JQ-At4W5-6"
      }
    },
    {
      "cell_type": "code",
      "source": [
        "# Initialize the Support Vector Regressor with a linear kernel\n",
        "svr_model = SVR(kernel='linear')\n",
        "\n",
        "# Train the model on the training data\n",
        "svr_model.fit(X_train_top_features, y_train)\n",
        "\n",
        "# Predict on the test data\n",
        "y_pred_svr = svr_model.predict(X_test_top_features)\n",
        "\n",
        "# Calculate the performance metrics for the SVR model\n",
        "mse_svr = mean_squared_error(y_test, y_pred_svr)\n",
        "rmse_svr = mean_squared_error(y_test, y_pred_svr, squared=False)\n",
        "r2_svr = r2_score(y_test, y_pred_svr)\n",
        "\n",
        "mse_svr, rmse_svr, r2_svr"
      ],
      "metadata": {
        "colab": {
          "base_uri": "https://localhost:8080/"
        },
        "id": "wXWpQum0ViML",
        "outputId": "93a1c611-0935-4f4b-c5cf-e43b0042de3f"
      },
      "execution_count": 22,
      "outputs": [
        {
          "output_type": "execute_result",
          "data": {
            "text/plain": [
              "(2.763155480673727e+17, 525657253.4145921, -0.1287731510829333)"
            ]
          },
          "metadata": {},
          "execution_count": 22
        }
      ]
    },
    {
      "cell_type": "markdown",
      "source": [
        "Mean Squared Error (MSE): \\(2.76 \\times 10^{17}\\)\n",
        "\n",
        "Root Mean Squared Error (RMSE): 525,657,253.4\n",
        "\n",
        "R-squared (\\(R^2\\)): -0.1288\n",
        "\n",
        "The SVR model's performance is considerably worse than the other models we've tried. The negative \\(R^2\\) value indicates that the model is not fitting the data well, and the RMSE is also much higher. This can be due to the nature of the SVR with the linear kernel on this dataset, or it might require more fine-tuning.\n"
      ],
      "metadata": {
        "id": "Aphs6hIKZWWY"
      }
    },
    {
      "cell_type": "code",
      "source": [
        "# Creating a DataFrame to display the results\n",
        "results = {\n",
        "    'Model': ['Linear Regression', 'Decision Tree Regressor', 'Random Forest Regressor',\n",
        "              'Gradient Boosting Machine', 'Support Vector Regression'],\n",
        "    'R-squared': [0.7047, 0.6841, 0.7913, 0.7725, -0.1288],\n",
        "    'MSE': [7.228912530008576e+16, 7.733565599015469e+16, 5.10765807188717e+16,\n",
        "            5.56961124289261e+16, 2.763155480673727e+17],\n",
        "    'RMSE': [268866370.7124522, 278092890.9378208, 226001284.77261296,\n",
        "             236000238.1967571, 525657253.4145921]\n",
        "}\n",
        "\n",
        "results_df = pd.DataFrame(results)\n",
        "# Sorting the dataframe by R-squared in descending order\n",
        "results_df = results_df.sort_values(by='R-squared', ascending=False).reset_index(drop=True)\n",
        "results_df"
      ],
      "metadata": {
        "colab": {
          "base_uri": "https://localhost:8080/",
          "height": 206
        },
        "id": "8fp2xS3NXdI9",
        "outputId": "870387ca-8d94-435f-9fc9-8746d8eae699"
      },
      "execution_count": 23,
      "outputs": [
        {
          "output_type": "execute_result",
          "data": {
            "text/plain": [
              "                       Model  R-squared           MSE          RMSE\n",
              "0    Random Forest Regressor     0.7913  5.107658e+16  2.260013e+08\n",
              "1  Gradient Boosting Machine     0.7725  5.569611e+16  2.360002e+08\n",
              "2          Linear Regression     0.7047  7.228913e+16  2.688664e+08\n",
              "3    Decision Tree Regressor     0.6841  7.733566e+16  2.780929e+08\n",
              "4  Support Vector Regression    -0.1288  2.763155e+17  5.256573e+08"
            ],
            "text/html": [
              "\n",
              "  <div id=\"df-a6beb41d-c314-4522-89e4-7b5eac97da74\" class=\"colab-df-container\">\n",
              "    <div>\n",
              "<style scoped>\n",
              "    .dataframe tbody tr th:only-of-type {\n",
              "        vertical-align: middle;\n",
              "    }\n",
              "\n",
              "    .dataframe tbody tr th {\n",
              "        vertical-align: top;\n",
              "    }\n",
              "\n",
              "    .dataframe thead th {\n",
              "        text-align: right;\n",
              "    }\n",
              "</style>\n",
              "<table border=\"1\" class=\"dataframe\">\n",
              "  <thead>\n",
              "    <tr style=\"text-align: right;\">\n",
              "      <th></th>\n",
              "      <th>Model</th>\n",
              "      <th>R-squared</th>\n",
              "      <th>MSE</th>\n",
              "      <th>RMSE</th>\n",
              "    </tr>\n",
              "  </thead>\n",
              "  <tbody>\n",
              "    <tr>\n",
              "      <th>0</th>\n",
              "      <td>Random Forest Regressor</td>\n",
              "      <td>0.7913</td>\n",
              "      <td>5.107658e+16</td>\n",
              "      <td>2.260013e+08</td>\n",
              "    </tr>\n",
              "    <tr>\n",
              "      <th>1</th>\n",
              "      <td>Gradient Boosting Machine</td>\n",
              "      <td>0.7725</td>\n",
              "      <td>5.569611e+16</td>\n",
              "      <td>2.360002e+08</td>\n",
              "    </tr>\n",
              "    <tr>\n",
              "      <th>2</th>\n",
              "      <td>Linear Regression</td>\n",
              "      <td>0.7047</td>\n",
              "      <td>7.228913e+16</td>\n",
              "      <td>2.688664e+08</td>\n",
              "    </tr>\n",
              "    <tr>\n",
              "      <th>3</th>\n",
              "      <td>Decision Tree Regressor</td>\n",
              "      <td>0.6841</td>\n",
              "      <td>7.733566e+16</td>\n",
              "      <td>2.780929e+08</td>\n",
              "    </tr>\n",
              "    <tr>\n",
              "      <th>4</th>\n",
              "      <td>Support Vector Regression</td>\n",
              "      <td>-0.1288</td>\n",
              "      <td>2.763155e+17</td>\n",
              "      <td>5.256573e+08</td>\n",
              "    </tr>\n",
              "  </tbody>\n",
              "</table>\n",
              "</div>\n",
              "    <div class=\"colab-df-buttons\">\n",
              "\n",
              "  <div class=\"colab-df-container\">\n",
              "    <button class=\"colab-df-convert\" onclick=\"convertToInteractive('df-a6beb41d-c314-4522-89e4-7b5eac97da74')\"\n",
              "            title=\"Convert this dataframe to an interactive table.\"\n",
              "            style=\"display:none;\">\n",
              "\n",
              "  <svg xmlns=\"http://www.w3.org/2000/svg\" height=\"24px\" viewBox=\"0 -960 960 960\">\n",
              "    <path d=\"M120-120v-720h720v720H120Zm60-500h600v-160H180v160Zm220 220h160v-160H400v160Zm0 220h160v-160H400v160ZM180-400h160v-160H180v160Zm440 0h160v-160H620v160ZM180-180h160v-160H180v160Zm440 0h160v-160H620v160Z\"/>\n",
              "  </svg>\n",
              "    </button>\n",
              "\n",
              "  <style>\n",
              "    .colab-df-container {\n",
              "      display:flex;\n",
              "      gap: 12px;\n",
              "    }\n",
              "\n",
              "    .colab-df-convert {\n",
              "      background-color: #E8F0FE;\n",
              "      border: none;\n",
              "      border-radius: 50%;\n",
              "      cursor: pointer;\n",
              "      display: none;\n",
              "      fill: #1967D2;\n",
              "      height: 32px;\n",
              "      padding: 0 0 0 0;\n",
              "      width: 32px;\n",
              "    }\n",
              "\n",
              "    .colab-df-convert:hover {\n",
              "      background-color: #E2EBFA;\n",
              "      box-shadow: 0px 1px 2px rgba(60, 64, 67, 0.3), 0px 1px 3px 1px rgba(60, 64, 67, 0.15);\n",
              "      fill: #174EA6;\n",
              "    }\n",
              "\n",
              "    .colab-df-buttons div {\n",
              "      margin-bottom: 4px;\n",
              "    }\n",
              "\n",
              "    [theme=dark] .colab-df-convert {\n",
              "      background-color: #3B4455;\n",
              "      fill: #D2E3FC;\n",
              "    }\n",
              "\n",
              "    [theme=dark] .colab-df-convert:hover {\n",
              "      background-color: #434B5C;\n",
              "      box-shadow: 0px 1px 3px 1px rgba(0, 0, 0, 0.15);\n",
              "      filter: drop-shadow(0px 1px 2px rgba(0, 0, 0, 0.3));\n",
              "      fill: #FFFFFF;\n",
              "    }\n",
              "  </style>\n",
              "\n",
              "    <script>\n",
              "      const buttonEl =\n",
              "        document.querySelector('#df-a6beb41d-c314-4522-89e4-7b5eac97da74 button.colab-df-convert');\n",
              "      buttonEl.style.display =\n",
              "        google.colab.kernel.accessAllowed ? 'block' : 'none';\n",
              "\n",
              "      async function convertToInteractive(key) {\n",
              "        const element = document.querySelector('#df-a6beb41d-c314-4522-89e4-7b5eac97da74');\n",
              "        const dataTable =\n",
              "          await google.colab.kernel.invokeFunction('convertToInteractive',\n",
              "                                                    [key], {});\n",
              "        if (!dataTable) return;\n",
              "\n",
              "        const docLinkHtml = 'Like what you see? Visit the ' +\n",
              "          '<a target=\"_blank\" href=https://colab.research.google.com/notebooks/data_table.ipynb>data table notebook</a>'\n",
              "          + ' to learn more about interactive tables.';\n",
              "        element.innerHTML = '';\n",
              "        dataTable['output_type'] = 'display_data';\n",
              "        await google.colab.output.renderOutput(dataTable, element);\n",
              "        const docLink = document.createElement('div');\n",
              "        docLink.innerHTML = docLinkHtml;\n",
              "        element.appendChild(docLink);\n",
              "      }\n",
              "    </script>\n",
              "  </div>\n",
              "\n",
              "\n",
              "<div id=\"df-3a37fbab-dcaa-41fc-ac13-3dfe348b3fea\">\n",
              "  <button class=\"colab-df-quickchart\" onclick=\"quickchart('df-3a37fbab-dcaa-41fc-ac13-3dfe348b3fea')\"\n",
              "            title=\"Suggest charts.\"\n",
              "            style=\"display:none;\">\n",
              "\n",
              "<svg xmlns=\"http://www.w3.org/2000/svg\" height=\"24px\"viewBox=\"0 0 24 24\"\n",
              "     width=\"24px\">\n",
              "    <g>\n",
              "        <path d=\"M19 3H5c-1.1 0-2 .9-2 2v14c0 1.1.9 2 2 2h14c1.1 0 2-.9 2-2V5c0-1.1-.9-2-2-2zM9 17H7v-7h2v7zm4 0h-2V7h2v10zm4 0h-2v-4h2v4z\"/>\n",
              "    </g>\n",
              "</svg>\n",
              "  </button>\n",
              "\n",
              "<style>\n",
              "  .colab-df-quickchart {\n",
              "      --bg-color: #E8F0FE;\n",
              "      --fill-color: #1967D2;\n",
              "      --hover-bg-color: #E2EBFA;\n",
              "      --hover-fill-color: #174EA6;\n",
              "      --disabled-fill-color: #AAA;\n",
              "      --disabled-bg-color: #DDD;\n",
              "  }\n",
              "\n",
              "  [theme=dark] .colab-df-quickchart {\n",
              "      --bg-color: #3B4455;\n",
              "      --fill-color: #D2E3FC;\n",
              "      --hover-bg-color: #434B5C;\n",
              "      --hover-fill-color: #FFFFFF;\n",
              "      --disabled-bg-color: #3B4455;\n",
              "      --disabled-fill-color: #666;\n",
              "  }\n",
              "\n",
              "  .colab-df-quickchart {\n",
              "    background-color: var(--bg-color);\n",
              "    border: none;\n",
              "    border-radius: 50%;\n",
              "    cursor: pointer;\n",
              "    display: none;\n",
              "    fill: var(--fill-color);\n",
              "    height: 32px;\n",
              "    padding: 0;\n",
              "    width: 32px;\n",
              "  }\n",
              "\n",
              "  .colab-df-quickchart:hover {\n",
              "    background-color: var(--hover-bg-color);\n",
              "    box-shadow: 0 1px 2px rgba(60, 64, 67, 0.3), 0 1px 3px 1px rgba(60, 64, 67, 0.15);\n",
              "    fill: var(--button-hover-fill-color);\n",
              "  }\n",
              "\n",
              "  .colab-df-quickchart-complete:disabled,\n",
              "  .colab-df-quickchart-complete:disabled:hover {\n",
              "    background-color: var(--disabled-bg-color);\n",
              "    fill: var(--disabled-fill-color);\n",
              "    box-shadow: none;\n",
              "  }\n",
              "\n",
              "  .colab-df-spinner {\n",
              "    border: 2px solid var(--fill-color);\n",
              "    border-color: transparent;\n",
              "    border-bottom-color: var(--fill-color);\n",
              "    animation:\n",
              "      spin 1s steps(1) infinite;\n",
              "  }\n",
              "\n",
              "  @keyframes spin {\n",
              "    0% {\n",
              "      border-color: transparent;\n",
              "      border-bottom-color: var(--fill-color);\n",
              "      border-left-color: var(--fill-color);\n",
              "    }\n",
              "    20% {\n",
              "      border-color: transparent;\n",
              "      border-left-color: var(--fill-color);\n",
              "      border-top-color: var(--fill-color);\n",
              "    }\n",
              "    30% {\n",
              "      border-color: transparent;\n",
              "      border-left-color: var(--fill-color);\n",
              "      border-top-color: var(--fill-color);\n",
              "      border-right-color: var(--fill-color);\n",
              "    }\n",
              "    40% {\n",
              "      border-color: transparent;\n",
              "      border-right-color: var(--fill-color);\n",
              "      border-top-color: var(--fill-color);\n",
              "    }\n",
              "    60% {\n",
              "      border-color: transparent;\n",
              "      border-right-color: var(--fill-color);\n",
              "    }\n",
              "    80% {\n",
              "      border-color: transparent;\n",
              "      border-right-color: var(--fill-color);\n",
              "      border-bottom-color: var(--fill-color);\n",
              "    }\n",
              "    90% {\n",
              "      border-color: transparent;\n",
              "      border-bottom-color: var(--fill-color);\n",
              "    }\n",
              "  }\n",
              "</style>\n",
              "\n",
              "  <script>\n",
              "    async function quickchart(key) {\n",
              "      const quickchartButtonEl =\n",
              "        document.querySelector('#' + key + ' button');\n",
              "      quickchartButtonEl.disabled = true;  // To prevent multiple clicks.\n",
              "      quickchartButtonEl.classList.add('colab-df-spinner');\n",
              "      try {\n",
              "        const charts = await google.colab.kernel.invokeFunction(\n",
              "            'suggestCharts', [key], {});\n",
              "      } catch (error) {\n",
              "        console.error('Error during call to suggestCharts:', error);\n",
              "      }\n",
              "      quickchartButtonEl.classList.remove('colab-df-spinner');\n",
              "      quickchartButtonEl.classList.add('colab-df-quickchart-complete');\n",
              "    }\n",
              "    (() => {\n",
              "      let quickchartButtonEl =\n",
              "        document.querySelector('#df-3a37fbab-dcaa-41fc-ac13-3dfe348b3fea button');\n",
              "      quickchartButtonEl.style.display =\n",
              "        google.colab.kernel.accessAllowed ? 'block' : 'none';\n",
              "    })();\n",
              "  </script>\n",
              "</div>\n",
              "    </div>\n",
              "  </div>\n"
            ]
          },
          "metadata": {},
          "execution_count": 23
        }
      ]
    },
    {
      "cell_type": "markdown",
      "source": [
        "Given the large size of our dataset and the multiple hyperparameters involved in a Random Forest, using GridSearchCV could be highly time-consuming and might not be the most efficient choice. RandomizedSearchCV offers a good balance between computational efficiency and model performance, making it a preferred choice in such scenarios."
      ],
      "metadata": {
        "id": "RUAsEr2Eb-NM"
      }
    },
    {
      "cell_type": "markdown",
      "source": [
        "# Hyperparameter tuning for Random Forest\n",
        "- Define the hyperparameter grid.\n",
        "- Initialize RandomizedSearchCV with the Random Forest Regressor and the hyperparameter grid.\n",
        "- Fit RandomizedSearchCV to the training data.\n",
        "- Retrieve the best hyperparameters.\n"
      ],
      "metadata": {
        "id": "5baWUlNZcB8R"
      }
    },
    {
      "cell_type": "code",
      "source": [
        "# Define the parameter distribution for RandomizedSearchCV\n",
        "param_dist = {\n",
        "    'n_estimators': [10, 50, 100, 200, 300, 400, 500],\n",
        "    'max_features': ['auto', 'sqrt'],\n",
        "    'max_depth': [None, 10, 20, 30, 40, 50, 60, 70, 80, 90, 100],\n",
        "    'min_samples_split': [2, 5, 10],\n",
        "    'min_samples_leaf': [1, 2, 4],\n",
        "    'bootstrap': [True, False]\n",
        "}\n",
        "\n",
        "# Modify the RandomizedSearchCV settings for faster execution\n",
        "rf_random_search = RandomizedSearchCV(\n",
        "    RandomForestRegressor(),\n",
        "    param_distributions=param_dist,\n",
        "    n_iter=30,  # reduced number of iterations\n",
        "    cv=2,  # 2-fold cross-validation\n",
        "    verbose=1,  # display progress\n",
        "    n_jobs=-1,  # use all cores of the machine\n",
        "    random_state=42\n",
        ")\n",
        "\n",
        "# Fit RandomizedSearchCV to the training data\n",
        "rf_random_search.fit(X_train, y_train)\n",
        "\n",
        "# Retrieve the best hyperparameters\n",
        "best_params_reduced = rf_random_search.best_params_\n",
        "best_params_reduced"
      ],
      "metadata": {
        "colab": {
          "base_uri": "https://localhost:8080/"
        },
        "id": "siKXuBCAZ5Iq",
        "outputId": "65fb5760-8a28-4006-9d26-4fe7c6eaa2e4"
      },
      "execution_count": 25,
      "outputs": [
        {
          "output_type": "stream",
          "name": "stdout",
          "text": [
            "Fitting 2 folds for each of 30 candidates, totalling 60 fits\n"
          ]
        },
        {
          "output_type": "execute_result",
          "data": {
            "text/plain": [
              "{'n_estimators': 50,\n",
              " 'min_samples_split': 2,\n",
              " 'min_samples_leaf': 1,\n",
              " 'max_features': 'sqrt',\n",
              " 'max_depth': 40,\n",
              " 'bootstrap': False}"
            ]
          },
          "metadata": {},
          "execution_count": 25
        }
      ]
    },
    {
      "cell_type": "markdown",
      "source": [
        "- Number of trees (`n_estimators`): 50\n",
        "- Minimum number of samples required to split an internal node (`min_samples_split`): 2\n",
        "- Minimum number of samples required to be at a leaf node (`min_samples_leaf`): 1\n",
        "- Number of features to consider when looking for the best split (`max_features`): 'sqrt'\n",
        "- Maximum depth of the tree (`max_depth`): 40\n",
        "- Whether bootstrap samples are used when building trees (`bootstrap`): False\n"
      ],
      "metadata": {
        "id": "UjMM42nufvOD"
      }
    },
    {
      "cell_type": "markdown",
      "source": [
        "## Training a Random Forest model using these hyperparameters and evaluate its performance on the test set:"
      ],
      "metadata": {
        "id": "p6JE1pwwf1JG"
      }
    },
    {
      "cell_type": "code",
      "source": [
        "# Train a Random Forest model with the best parameters from RandomizedSearchCV\n",
        "best_rf_model = RandomForestRegressor(\n",
        "    n_estimators=50,\n",
        "    min_samples_split=2,\n",
        "    min_samples_leaf=1,\n",
        "    max_features='sqrt',\n",
        "    max_depth=40,\n",
        "    bootstrap=False,\n",
        "    random_state=42\n",
        ")\n",
        "best_rf_model.fit(X_train, y_train)\n",
        "\n",
        "# Predict on the test data\n",
        "y_pred_best_rf = best_rf_model.predict(X_test)\n",
        "\n",
        "# Calculate performance metrics\n",
        "mse_best_rf = mean_squared_error(y_test, y_pred_best_rf)\n",
        "rmse_best_rf = mean_squared_error(y_test, y_pred_best_rf, squared=False)\n",
        "r2_best_rf = r2_score(y_test, y_pred_best_rf)\n",
        "\n",
        "mse_best_rf, rmse_best_rf, r2_best_rf\n"
      ],
      "metadata": {
        "colab": {
          "base_uri": "https://localhost:8080/"
        },
        "id": "gZ5CgZLMfvlW",
        "outputId": "f34608fb-7809-42d3-9571-363ff5cd5c91"
      },
      "execution_count": 26,
      "outputs": [
        {
          "output_type": "execute_result",
          "data": {
            "text/plain": [
              "(4.752316770636876e+16, 217998091.0612952, 0.8058637085876866)"
            ]
          },
          "metadata": {},
          "execution_count": 26
        }
      ]
    },
    {
      "cell_type": "markdown",
      "source": [
        "- Mean Squared Error (MSE): \\(4.752 \\times 10^{16}\\)\n",
        "- Root Mean Squared Error (RMSE): 217,998,091\n",
        "- R-squared (R²): 0.8059\n",
        "\n",
        "The R² score of approximately 0.806 indicates that the model can explain about 80.59% of the variance in the test set, which is a good score. The RMSE gives us a measure of how much our predictions deviate, on average, from the actual values in the test set. In this context, an RMSE of approximately 218 million means that our predictions are off by this amount, on average.\n",
        "\n",
        "The hyperparameter tuning process has improved the model performance.\n"
      ],
      "metadata": {
        "id": "fD-DzDWKgTwL"
      }
    },
    {
      "cell_type": "markdown",
      "source": [
        "# Advanced Gradient Boosting Models"
      ],
      "metadata": {
        "id": "pzU8f-I8heGF"
      }
    },
    {
      "cell_type": "markdown",
      "source": [
        "## XGBoost"
      ],
      "metadata": {
        "id": "NkaOXmaWiV1R"
      }
    },
    {
      "cell_type": "code",
      "source": [
        "# Initialize XGBoost model\n",
        "xgb_model = xgb.XGBRegressor(objective ='reg:squarederror', n_estimators=100)\n",
        "\n",
        "# Train the model\n",
        "xgb_model.fit(X_train, y_train)\n",
        "\n",
        "# Predict on the test set\n",
        "y_pred_xgb = xgb_model.predict(X_test)\n",
        "\n",
        "# Calculate the performance metrics\n",
        "mse_xgb = mean_squared_error(y_test, y_pred_xgb)\n",
        "rmse_xgb = mean_squared_error(y_test, y_pred_xgb, squared=False)\n",
        "r2_xgb = r2_score(y_test, y_pred_xgb)\n",
        "\n",
        "mse_xgb, rmse_xgb, r2_xgb"
      ],
      "metadata": {
        "colab": {
          "base_uri": "https://localhost:8080/"
        },
        "id": "HFSmyqWfgUJi",
        "outputId": "79c7b924-85d0-4a3f-f103-1c34dfecb620"
      },
      "execution_count": 28,
      "outputs": [
        {
          "output_type": "execute_result",
          "data": {
            "text/plain": [
              "(4.633806026414205e+16, 215262770.26959875, 0.8107049760128838)"
            ]
          },
          "metadata": {},
          "execution_count": 28
        }
      ]
    },
    {
      "cell_type": "markdown",
      "source": [
        "The XGBoost model seems to be performing slightly better than the hyper-tuned Random Forest model, with an \\( R^2 \\) score of approximately 0.8107 compared to the Random Forest's 0.8058. The RMSE has also decreased, indicating that on average, the predictions are closer to the actual values.\n",
        "\n",
        "To potentially improve the performance further, we can perform hyperparameter tuning on the XGBoost model, similar to what we did with the Random Forest. However, tuning XGBoost can be more computationally intensive due to the sheer number of hyperparameters available and their potential combinations. Therefore, we will try different models.\n"
      ],
      "metadata": {
        "id": "VO1PalUBh_XP"
      }
    },
    {
      "cell_type": "markdown",
      "source": [
        "## LightGBM\n",
        "- Faster training speed and higher efficiency.\n",
        "- Lower memory usage.\n",
        "- Better accuracy.\n",
        "- Support of parallel, distributed, and GPU learning.\n",
        "- Capable of handling large-scale data.\n"
      ],
      "metadata": {
        "id": "X-e2qztpiTk1"
      }
    },
    {
      "cell_type": "code",
      "source": [
        "# Convert 'streams' to numeric type\n",
        "data['streams'] = pd.to_numeric(data['streams'], errors='coerce')\n",
        "\n",
        "# Since we have already split the data, also update y_train and y_test\n",
        "y_train = pd.to_numeric(y_train, errors='coerce')\n",
        "y_test = pd.to_numeric(y_test, errors='coerce')\n"
      ],
      "metadata": {
        "id": "sjbNzGaEjkdo"
      },
      "execution_count": 31,
      "outputs": []
    },
    {
      "cell_type": "code",
      "source": [
        "# Initialize LightGBM model\n",
        "lgb_model = lgb.LGBMRegressor()\n",
        "\n",
        "# Train the model\n",
        "lgb_model.fit(X_train, y_train)\n",
        "\n",
        "# Predict on the test data\n",
        "y_pred_lgb = lgb_model.predict(X_test)\n",
        "\n",
        "# Calculate the performance metrics\n",
        "mse_lgb = mean_squared_error(y_test, y_pred_lgb)\n",
        "rmse_lgb = mean_squared_error(y_test, y_pred_lgb, squared=False)\n",
        "r2_lgb = r2_score(y_test, y_pred_lgb)\n",
        "\n",
        "print(mse_lgb, rmse_lgb, r2_lgb)"
      ],
      "metadata": {
        "colab": {
          "base_uri": "https://localhost:8080/"
        },
        "id": "bqZwxcsnhphT",
        "outputId": "e3326665-54e4-4ea7-c52d-4af5d34959ab"
      },
      "execution_count": 32,
      "outputs": [
        {
          "output_type": "stream",
          "name": "stdout",
          "text": [
            "[LightGBM] [Warning] Auto-choosing row-wise multi-threading, the overhead of testing was 0.000439 seconds.\n",
            "You can set `force_row_wise=true` to remove the overhead.\n",
            "And if memory is not enough, you can set `force_col_wise=true`.\n",
            "[LightGBM] [Info] Total Bins 1473\n",
            "[LightGBM] [Info] Number of data points in the train set: 761, number of used features: 31\n",
            "[LightGBM] [Info] Start training from score 524738267.164258\n",
            "[LightGBM] [Warning] No further splits with positive gain, best gain: -inf\n",
            "[LightGBM] [Warning] No further splits with positive gain, best gain: -inf\n",
            "[LightGBM] [Warning] No further splits with positive gain, best gain: -inf\n",
            "[LightGBM] [Warning] No further splits with positive gain, best gain: -inf\n",
            "[LightGBM] [Warning] No further splits with positive gain, best gain: -inf\n",
            "[LightGBM] [Warning] No further splits with positive gain, best gain: -inf\n",
            "[LightGBM] [Warning] No further splits with positive gain, best gain: -inf\n",
            "[LightGBM] [Warning] No further splits with positive gain, best gain: -inf\n",
            "[LightGBM] [Warning] No further splits with positive gain, best gain: -inf\n",
            "[LightGBM] [Warning] No further splits with positive gain, best gain: -inf\n",
            "[LightGBM] [Warning] No further splits with positive gain, best gain: -inf\n",
            "[LightGBM] [Warning] No further splits with positive gain, best gain: -inf\n",
            "[LightGBM] [Warning] No further splits with positive gain, best gain: -inf\n",
            "[LightGBM] [Warning] No further splits with positive gain, best gain: -inf\n",
            "[LightGBM] [Warning] No further splits with positive gain, best gain: -inf\n",
            "[LightGBM] [Warning] No further splits with positive gain, best gain: -inf\n",
            "[LightGBM] [Warning] No further splits with positive gain, best gain: -inf\n",
            "[LightGBM] [Warning] No further splits with positive gain, best gain: -inf\n",
            "[LightGBM] [Warning] No further splits with positive gain, best gain: -inf\n",
            "[LightGBM] [Warning] No further splits with positive gain, best gain: -inf\n",
            "[LightGBM] [Warning] No further splits with positive gain, best gain: -inf\n",
            "[LightGBM] [Warning] No further splits with positive gain, best gain: -inf\n",
            "[LightGBM] [Warning] No further splits with positive gain, best gain: -inf\n",
            "[LightGBM] [Warning] No further splits with positive gain, best gain: -inf\n",
            "[LightGBM] [Warning] No further splits with positive gain, best gain: -inf\n",
            "[LightGBM] [Warning] No further splits with positive gain, best gain: -inf\n",
            "[LightGBM] [Warning] No further splits with positive gain, best gain: -inf\n",
            "[LightGBM] [Warning] No further splits with positive gain, best gain: -inf\n",
            "[LightGBM] [Warning] No further splits with positive gain, best gain: -inf\n",
            "[LightGBM] [Warning] No further splits with positive gain, best gain: -inf\n",
            "[LightGBM] [Warning] No further splits with positive gain, best gain: -inf\n",
            "[LightGBM] [Warning] No further splits with positive gain, best gain: -inf\n",
            "[LightGBM] [Warning] No further splits with positive gain, best gain: -inf\n",
            "[LightGBM] [Warning] No further splits with positive gain, best gain: -inf\n",
            "[LightGBM] [Warning] No further splits with positive gain, best gain: -inf\n",
            "[LightGBM] [Warning] No further splits with positive gain, best gain: -inf\n",
            "[LightGBM] [Warning] No further splits with positive gain, best gain: -inf\n",
            "[LightGBM] [Warning] No further splits with positive gain, best gain: -inf\n",
            "[LightGBM] [Warning] No further splits with positive gain, best gain: -inf\n",
            "[LightGBM] [Warning] No further splits with positive gain, best gain: -inf\n",
            "[LightGBM] [Warning] No further splits with positive gain, best gain: -inf\n",
            "[LightGBM] [Warning] No further splits with positive gain, best gain: -inf\n",
            "[LightGBM] [Warning] No further splits with positive gain, best gain: -inf\n",
            "[LightGBM] [Warning] No further splits with positive gain, best gain: -inf\n",
            "[LightGBM] [Warning] No further splits with positive gain, best gain: -inf\n",
            "[LightGBM] [Warning] No further splits with positive gain, best gain: -inf\n",
            "[LightGBM] [Warning] No further splits with positive gain, best gain: -inf\n",
            "[LightGBM] [Warning] No further splits with positive gain, best gain: -inf\n",
            "[LightGBM] [Warning] No further splits with positive gain, best gain: -inf\n",
            "[LightGBM] [Warning] No further splits with positive gain, best gain: -inf\n",
            "[LightGBM] [Warning] No further splits with positive gain, best gain: -inf\n",
            "[LightGBM] [Warning] No further splits with positive gain, best gain: -inf\n",
            "[LightGBM] [Warning] No further splits with positive gain, best gain: -inf\n",
            "[LightGBM] [Warning] No further splits with positive gain, best gain: -inf\n",
            "[LightGBM] [Warning] No further splits with positive gain, best gain: -inf\n",
            "[LightGBM] [Warning] No further splits with positive gain, best gain: -inf\n",
            "[LightGBM] [Warning] No further splits with positive gain, best gain: -inf\n",
            "[LightGBM] [Warning] No further splits with positive gain, best gain: -inf\n",
            "[LightGBM] [Warning] No further splits with positive gain, best gain: -inf\n",
            "[LightGBM] [Warning] No further splits with positive gain, best gain: -inf\n",
            "[LightGBM] [Warning] No further splits with positive gain, best gain: -inf\n",
            "[LightGBM] [Warning] No further splits with positive gain, best gain: -inf\n",
            "[LightGBM] [Warning] No further splits with positive gain, best gain: -inf\n",
            "[LightGBM] [Warning] No further splits with positive gain, best gain: -inf\n",
            "[LightGBM] [Warning] No further splits with positive gain, best gain: -inf\n",
            "[LightGBM] [Warning] No further splits with positive gain, best gain: -inf\n",
            "[LightGBM] [Warning] No further splits with positive gain, best gain: -inf\n",
            "[LightGBM] [Warning] No further splits with positive gain, best gain: -inf\n",
            "[LightGBM] [Warning] No further splits with positive gain, best gain: -inf\n",
            "[LightGBM] [Warning] No further splits with positive gain, best gain: -inf\n",
            "[LightGBM] [Warning] No further splits with positive gain, best gain: -inf\n",
            "[LightGBM] [Warning] No further splits with positive gain, best gain: -inf\n",
            "[LightGBM] [Warning] No further splits with positive gain, best gain: -inf\n",
            "[LightGBM] [Warning] No further splits with positive gain, best gain: -inf\n",
            "[LightGBM] [Warning] No further splits with positive gain, best gain: -inf\n",
            "[LightGBM] [Warning] No further splits with positive gain, best gain: -inf\n",
            "[LightGBM] [Warning] No further splits with positive gain, best gain: -inf\n",
            "[LightGBM] [Warning] No further splits with positive gain, best gain: -inf\n",
            "[LightGBM] [Warning] No further splits with positive gain, best gain: -inf\n",
            "[LightGBM] [Warning] No further splits with positive gain, best gain: -inf\n",
            "[LightGBM] [Warning] No further splits with positive gain, best gain: -inf\n",
            "[LightGBM] [Warning] No further splits with positive gain, best gain: -inf\n",
            "[LightGBM] [Warning] No further splits with positive gain, best gain: -inf\n",
            "[LightGBM] [Warning] No further splits with positive gain, best gain: -inf\n",
            "[LightGBM] [Warning] No further splits with positive gain, best gain: -inf\n",
            "3.953810551304229e+16 198841910.85644466 0.8384833851733728\n"
          ]
        }
      ]
    },
    {
      "cell_type": "markdown",
      "source": [
        "The \\( R^2 \\) value of approximately 0.8385 suggests that the LightGBM model explains about 83.85% of the variance in the test data, which is pretty good. The RMSE value provides a measure of the error in the model's predictions. In this case, the RMSE value of 198\n",
        "To summarize, despite the numerous warnings, the LightGBM model performed quite well on the test data!\n"
      ],
      "metadata": {
        "id": "ARFmB7L1kJuM"
      }
    },
    {
      "cell_type": "code",
      "source": [],
      "metadata": {
        "id": "um2NHNZWi4wQ"
      },
      "execution_count": null,
      "outputs": []
    }
  ]
}